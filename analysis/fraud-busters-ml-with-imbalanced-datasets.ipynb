{
 "cells": [
  {
   "cell_type": "markdown",
   "id": "99da0a0f",
   "metadata": {
    "papermill": {
     "duration": 0.015844,
     "end_time": "2023-05-19T08:24:18.037443",
     "exception": false,
     "start_time": "2023-05-19T08:24:18.021599",
     "status": "completed"
    },
    "tags": []
   },
   "source": [
    "# 🕵️ Fraud Busters: Credit Fraud Detection and Imbalanced Datasets\n",
    "\n",
    "In this project, we'll be building a classification model that aims to detect fraud in credit card transactions. This type of task can get particularly tricky because the target variable is often extremely imbalanced. There may only be one fraud transaction out of the many thousands or millions of transactions, and we have to be able to pick them out. There are multiple methods in which we can deal with this imbalance, and we'll look into them one by one in this notebook. Without further ado, let's begin!"
   ]
  },
  {
   "cell_type": "markdown",
   "id": "6bdec534",
   "metadata": {
    "papermill": {
     "duration": 0.014905,
     "end_time": "2023-05-19T08:24:18.067384",
     "exception": false,
     "start_time": "2023-05-19T08:24:18.052479",
     "status": "completed"
    },
    "tags": []
   },
   "source": [
    "# Modules\n",
    "\n",
    "First, let's import the modules that we'll be using in this notebook."
   ]
  },
  {
   "cell_type": "code",
   "execution_count": 3,
   "id": "eb984c19",
   "metadata": {
    "execution": {
     "iopub.execute_input": "2023-05-19T08:24:18.099222Z",
     "iopub.status.busy": "2023-05-19T08:24:18.098594Z",
     "iopub.status.idle": "2023-05-19T08:24:19.727557Z",
     "shell.execute_reply": "2023-05-19T08:24:19.726514Z"
    },
    "papermill": {
     "duration": 1.64795,
     "end_time": "2023-05-19T08:24:19.729971",
     "exception": false,
     "start_time": "2023-05-19T08:24:18.082021",
     "status": "completed"
    },
    "tags": []
   },
   "outputs": [],
   "source": [
    "#import modules\n",
    "import pandas as pd\n",
    "import numpy as np\n",
    "import matplotlib.pyplot as plt\n",
    "import seaborn as sns\n",
    "sns.set_theme(style=\"darkgrid\")\n",
    "\n",
    "from sklearn.model_selection import train_test_split\n",
    "from sklearn.preprocessing import PowerTransformer\n",
    "from sklearn.linear_model import LogisticRegression\n",
    "from sklearn.ensemble import RandomForestClassifier, AdaBoostClassifier, GradientBoostingClassifier\n",
    "from sklearn.metrics import accuracy_score,confusion_matrix, classification_report, roc_auc_score, roc_curve, auc, f1_score, precision_recall_fscore_support\n",
    "from sklearn.utils import resample\n",
    "\n",
    "from imblearn.over_sampling import SMOTE"
   ]
  },
  {
   "cell_type": "markdown",
   "id": "0ae9a1e4",
   "metadata": {
    "papermill": {
     "duration": 0.014111,
     "end_time": "2023-05-19T08:24:19.758673",
     "exception": false,
     "start_time": "2023-05-19T08:24:19.744562",
     "status": "completed"
    },
    "tags": []
   },
   "source": [
    "# Dataset\n",
    "\n",
    "Next, let's take a look at the data we have at hand."
   ]
  },
  {
   "cell_type": "code",
   "execution_count": 4,
   "id": "964fe8e1",
   "metadata": {
    "execution": {
     "iopub.execute_input": "2023-05-19T08:24:19.789416Z",
     "iopub.status.busy": "2023-05-19T08:24:19.789086Z",
     "iopub.status.idle": "2023-05-19T08:24:23.147857Z",
     "shell.execute_reply": "2023-05-19T08:24:23.146392Z"
    },
    "papermill": {
     "duration": 3.377556,
     "end_time": "2023-05-19T08:24:23.150795",
     "exception": false,
     "start_time": "2023-05-19T08:24:19.773239",
     "status": "completed"
    },
    "tags": []
   },
   "outputs": [
    {
     "data": {
      "text/html": [
       "<div>\n",
       "<style scoped>\n",
       "    .dataframe tbody tr th:only-of-type {\n",
       "        vertical-align: middle;\n",
       "    }\n",
       "\n",
       "    .dataframe tbody tr th {\n",
       "        vertical-align: top;\n",
       "    }\n",
       "\n",
       "    .dataframe thead th {\n",
       "        text-align: right;\n",
       "    }\n",
       "</style>\n",
       "<table border=\"1\" class=\"dataframe\">\n",
       "  <thead>\n",
       "    <tr style=\"text-align: right;\">\n",
       "      <th></th>\n",
       "      <th>Time</th>\n",
       "      <th>V1</th>\n",
       "      <th>V2</th>\n",
       "      <th>V3</th>\n",
       "      <th>V4</th>\n",
       "      <th>V5</th>\n",
       "      <th>V6</th>\n",
       "      <th>V7</th>\n",
       "      <th>V8</th>\n",
       "      <th>V9</th>\n",
       "      <th>...</th>\n",
       "      <th>V21</th>\n",
       "      <th>V22</th>\n",
       "      <th>V23</th>\n",
       "      <th>V24</th>\n",
       "      <th>V25</th>\n",
       "      <th>V26</th>\n",
       "      <th>V27</th>\n",
       "      <th>V28</th>\n",
       "      <th>Amount</th>\n",
       "      <th>Class</th>\n",
       "    </tr>\n",
       "  </thead>\n",
       "  <tbody>\n",
       "    <tr>\n",
       "      <th>0</th>\n",
       "      <td>0.0</td>\n",
       "      <td>-1.359807</td>\n",
       "      <td>-0.072781</td>\n",
       "      <td>2.536347</td>\n",
       "      <td>1.378155</td>\n",
       "      <td>-0.338321</td>\n",
       "      <td>0.462388</td>\n",
       "      <td>0.239599</td>\n",
       "      <td>0.098698</td>\n",
       "      <td>0.363787</td>\n",
       "      <td>...</td>\n",
       "      <td>-0.018307</td>\n",
       "      <td>0.277838</td>\n",
       "      <td>-0.110474</td>\n",
       "      <td>0.066928</td>\n",
       "      <td>0.128539</td>\n",
       "      <td>-0.189115</td>\n",
       "      <td>0.133558</td>\n",
       "      <td>-0.021053</td>\n",
       "      <td>149.62</td>\n",
       "      <td>0</td>\n",
       "    </tr>\n",
       "    <tr>\n",
       "      <th>1</th>\n",
       "      <td>0.0</td>\n",
       "      <td>1.191857</td>\n",
       "      <td>0.266151</td>\n",
       "      <td>0.166480</td>\n",
       "      <td>0.448154</td>\n",
       "      <td>0.060018</td>\n",
       "      <td>-0.082361</td>\n",
       "      <td>-0.078803</td>\n",
       "      <td>0.085102</td>\n",
       "      <td>-0.255425</td>\n",
       "      <td>...</td>\n",
       "      <td>-0.225775</td>\n",
       "      <td>-0.638672</td>\n",
       "      <td>0.101288</td>\n",
       "      <td>-0.339846</td>\n",
       "      <td>0.167170</td>\n",
       "      <td>0.125895</td>\n",
       "      <td>-0.008983</td>\n",
       "      <td>0.014724</td>\n",
       "      <td>2.69</td>\n",
       "      <td>0</td>\n",
       "    </tr>\n",
       "    <tr>\n",
       "      <th>2</th>\n",
       "      <td>1.0</td>\n",
       "      <td>-1.358354</td>\n",
       "      <td>-1.340163</td>\n",
       "      <td>1.773209</td>\n",
       "      <td>0.379780</td>\n",
       "      <td>-0.503198</td>\n",
       "      <td>1.800499</td>\n",
       "      <td>0.791461</td>\n",
       "      <td>0.247676</td>\n",
       "      <td>-1.514654</td>\n",
       "      <td>...</td>\n",
       "      <td>0.247998</td>\n",
       "      <td>0.771679</td>\n",
       "      <td>0.909412</td>\n",
       "      <td>-0.689281</td>\n",
       "      <td>-0.327642</td>\n",
       "      <td>-0.139097</td>\n",
       "      <td>-0.055353</td>\n",
       "      <td>-0.059752</td>\n",
       "      <td>378.66</td>\n",
       "      <td>0</td>\n",
       "    </tr>\n",
       "    <tr>\n",
       "      <th>3</th>\n",
       "      <td>1.0</td>\n",
       "      <td>-0.966272</td>\n",
       "      <td>-0.185226</td>\n",
       "      <td>1.792993</td>\n",
       "      <td>-0.863291</td>\n",
       "      <td>-0.010309</td>\n",
       "      <td>1.247203</td>\n",
       "      <td>0.237609</td>\n",
       "      <td>0.377436</td>\n",
       "      <td>-1.387024</td>\n",
       "      <td>...</td>\n",
       "      <td>-0.108300</td>\n",
       "      <td>0.005274</td>\n",
       "      <td>-0.190321</td>\n",
       "      <td>-1.175575</td>\n",
       "      <td>0.647376</td>\n",
       "      <td>-0.221929</td>\n",
       "      <td>0.062723</td>\n",
       "      <td>0.061458</td>\n",
       "      <td>123.50</td>\n",
       "      <td>0</td>\n",
       "    </tr>\n",
       "    <tr>\n",
       "      <th>4</th>\n",
       "      <td>2.0</td>\n",
       "      <td>-1.158233</td>\n",
       "      <td>0.877737</td>\n",
       "      <td>1.548718</td>\n",
       "      <td>0.403034</td>\n",
       "      <td>-0.407193</td>\n",
       "      <td>0.095921</td>\n",
       "      <td>0.592941</td>\n",
       "      <td>-0.270533</td>\n",
       "      <td>0.817739</td>\n",
       "      <td>...</td>\n",
       "      <td>-0.009431</td>\n",
       "      <td>0.798278</td>\n",
       "      <td>-0.137458</td>\n",
       "      <td>0.141267</td>\n",
       "      <td>-0.206010</td>\n",
       "      <td>0.502292</td>\n",
       "      <td>0.219422</td>\n",
       "      <td>0.215153</td>\n",
       "      <td>69.99</td>\n",
       "      <td>0</td>\n",
       "    </tr>\n",
       "  </tbody>\n",
       "</table>\n",
       "<p>5 rows × 31 columns</p>\n",
       "</div>"
      ],
      "text/plain": [
       "   Time        V1        V2        V3        V4        V5        V6        V7  \\\n",
       "0   0.0 -1.359807 -0.072781  2.536347  1.378155 -0.338321  0.462388  0.239599   \n",
       "1   0.0  1.191857  0.266151  0.166480  0.448154  0.060018 -0.082361 -0.078803   \n",
       "2   1.0 -1.358354 -1.340163  1.773209  0.379780 -0.503198  1.800499  0.791461   \n",
       "3   1.0 -0.966272 -0.185226  1.792993 -0.863291 -0.010309  1.247203  0.237609   \n",
       "4   2.0 -1.158233  0.877737  1.548718  0.403034 -0.407193  0.095921  0.592941   \n",
       "\n",
       "         V8        V9  ...       V21       V22       V23       V24       V25  \\\n",
       "0  0.098698  0.363787  ... -0.018307  0.277838 -0.110474  0.066928  0.128539   \n",
       "1  0.085102 -0.255425  ... -0.225775 -0.638672  0.101288 -0.339846  0.167170   \n",
       "2  0.247676 -1.514654  ...  0.247998  0.771679  0.909412 -0.689281 -0.327642   \n",
       "3  0.377436 -1.387024  ... -0.108300  0.005274 -0.190321 -1.175575  0.647376   \n",
       "4 -0.270533  0.817739  ... -0.009431  0.798278 -0.137458  0.141267 -0.206010   \n",
       "\n",
       "        V26       V27       V28  Amount  Class  \n",
       "0 -0.189115  0.133558 -0.021053  149.62      0  \n",
       "1  0.125895 -0.008983  0.014724    2.69      0  \n",
       "2 -0.139097 -0.055353 -0.059752  378.66      0  \n",
       "3 -0.221929  0.062723  0.061458  123.50      0  \n",
       "4  0.502292  0.219422  0.215153   69.99      0  \n",
       "\n",
       "[5 rows x 31 columns]"
      ]
     },
     "execution_count": 4,
     "metadata": {},
     "output_type": "execute_result"
    }
   ],
   "source": [
    "credit_card = pd.read_csv(\"../data/creditcard.csv\")\n",
    "credit_card.head()"
   ]
  },
  {
   "cell_type": "markdown",
   "id": "29f75f0c",
   "metadata": {
    "papermill": {
     "duration": 0.014791,
     "end_time": "2023-05-19T08:24:23.181223",
     "exception": false,
     "start_time": "2023-05-19T08:24:23.166432",
     "status": "completed"
    },
    "tags": []
   },
   "source": [
    "The dataset that we have today consists of 31 variables, including our target variable: `Class`. This variable takes on two values, `0` as *Not Fraud* and `1` as *Fraud*. The remaining variables consist of `Time`, `Amount` and 28 *V variables*. The *V variables* are the results of a **PCA** (**Principal Component Analysis**) transformation in order to protect customer information. For those who are unfamiliar with PCA, it is, in essence, a dimensionality reduction technique that is able to reduce the number of dimensions while retaining the most important features. So you can think of these 28 *V variables* as a representation of a much larger number of different variables (like customer particulars, transaction amount, transaction location, etc.).  Since we don't have the specific data on what the *V variables* represent, we wouldn't be able to present a very interpretable result. Rather, we'll focus on the methods and evaluations we can adopt to deal with imbalanced datasets.\n",
    "\n",
    "Anyways, let's take an approximate look at the distribution of each variable."
   ]
  },
  {
   "cell_type": "code",
   "execution_count": 5,
   "id": "63f230a0",
   "metadata": {
    "execution": {
     "iopub.execute_input": "2023-05-19T08:24:23.213073Z",
     "iopub.status.busy": "2023-05-19T08:24:23.212642Z",
     "iopub.status.idle": "2023-05-19T08:24:23.569191Z",
     "shell.execute_reply": "2023-05-19T08:24:23.568158Z"
    },
    "papermill": {
     "duration": 0.375058,
     "end_time": "2023-05-19T08:24:23.571402",
     "exception": false,
     "start_time": "2023-05-19T08:24:23.196344",
     "status": "completed"
    },
    "tags": []
   },
   "outputs": [
    {
     "data": {
      "text/html": [
       "<div>\n",
       "<style scoped>\n",
       "    .dataframe tbody tr th:only-of-type {\n",
       "        vertical-align: middle;\n",
       "    }\n",
       "\n",
       "    .dataframe tbody tr th {\n",
       "        vertical-align: top;\n",
       "    }\n",
       "\n",
       "    .dataframe thead th {\n",
       "        text-align: right;\n",
       "    }\n",
       "</style>\n",
       "<table border=\"1\" class=\"dataframe\">\n",
       "  <thead>\n",
       "    <tr style=\"text-align: right;\">\n",
       "      <th></th>\n",
       "      <th>Time</th>\n",
       "      <th>V1</th>\n",
       "      <th>V2</th>\n",
       "      <th>V3</th>\n",
       "      <th>V4</th>\n",
       "      <th>V5</th>\n",
       "      <th>V6</th>\n",
       "      <th>V7</th>\n",
       "      <th>V8</th>\n",
       "      <th>V9</th>\n",
       "      <th>...</th>\n",
       "      <th>V21</th>\n",
       "      <th>V22</th>\n",
       "      <th>V23</th>\n",
       "      <th>V24</th>\n",
       "      <th>V25</th>\n",
       "      <th>V26</th>\n",
       "      <th>V27</th>\n",
       "      <th>V28</th>\n",
       "      <th>Amount</th>\n",
       "      <th>Class</th>\n",
       "    </tr>\n",
       "  </thead>\n",
       "  <tbody>\n",
       "    <tr>\n",
       "      <th>count</th>\n",
       "      <td>284807.000000</td>\n",
       "      <td>2.848070e+05</td>\n",
       "      <td>2.848070e+05</td>\n",
       "      <td>2.848070e+05</td>\n",
       "      <td>2.848070e+05</td>\n",
       "      <td>2.848070e+05</td>\n",
       "      <td>2.848070e+05</td>\n",
       "      <td>2.848070e+05</td>\n",
       "      <td>2.848070e+05</td>\n",
       "      <td>2.848070e+05</td>\n",
       "      <td>...</td>\n",
       "      <td>2.848070e+05</td>\n",
       "      <td>2.848070e+05</td>\n",
       "      <td>2.848070e+05</td>\n",
       "      <td>2.848070e+05</td>\n",
       "      <td>2.848070e+05</td>\n",
       "      <td>2.848070e+05</td>\n",
       "      <td>2.848070e+05</td>\n",
       "      <td>2.848070e+05</td>\n",
       "      <td>284807.000000</td>\n",
       "      <td>284807.000000</td>\n",
       "    </tr>\n",
       "    <tr>\n",
       "      <th>mean</th>\n",
       "      <td>94813.859575</td>\n",
       "      <td>1.168375e-15</td>\n",
       "      <td>3.416908e-16</td>\n",
       "      <td>-1.379537e-15</td>\n",
       "      <td>2.074095e-15</td>\n",
       "      <td>9.604066e-16</td>\n",
       "      <td>1.487313e-15</td>\n",
       "      <td>-5.556467e-16</td>\n",
       "      <td>1.213481e-16</td>\n",
       "      <td>-2.406331e-15</td>\n",
       "      <td>...</td>\n",
       "      <td>1.654067e-16</td>\n",
       "      <td>-3.568593e-16</td>\n",
       "      <td>2.578648e-16</td>\n",
       "      <td>4.473266e-15</td>\n",
       "      <td>5.340915e-16</td>\n",
       "      <td>1.683437e-15</td>\n",
       "      <td>-3.660091e-16</td>\n",
       "      <td>-1.227390e-16</td>\n",
       "      <td>88.349619</td>\n",
       "      <td>0.001727</td>\n",
       "    </tr>\n",
       "    <tr>\n",
       "      <th>std</th>\n",
       "      <td>47488.145955</td>\n",
       "      <td>1.958696e+00</td>\n",
       "      <td>1.651309e+00</td>\n",
       "      <td>1.516255e+00</td>\n",
       "      <td>1.415869e+00</td>\n",
       "      <td>1.380247e+00</td>\n",
       "      <td>1.332271e+00</td>\n",
       "      <td>1.237094e+00</td>\n",
       "      <td>1.194353e+00</td>\n",
       "      <td>1.098632e+00</td>\n",
       "      <td>...</td>\n",
       "      <td>7.345240e-01</td>\n",
       "      <td>7.257016e-01</td>\n",
       "      <td>6.244603e-01</td>\n",
       "      <td>6.056471e-01</td>\n",
       "      <td>5.212781e-01</td>\n",
       "      <td>4.822270e-01</td>\n",
       "      <td>4.036325e-01</td>\n",
       "      <td>3.300833e-01</td>\n",
       "      <td>250.120109</td>\n",
       "      <td>0.041527</td>\n",
       "    </tr>\n",
       "    <tr>\n",
       "      <th>min</th>\n",
       "      <td>0.000000</td>\n",
       "      <td>-5.640751e+01</td>\n",
       "      <td>-7.271573e+01</td>\n",
       "      <td>-4.832559e+01</td>\n",
       "      <td>-5.683171e+00</td>\n",
       "      <td>-1.137433e+02</td>\n",
       "      <td>-2.616051e+01</td>\n",
       "      <td>-4.355724e+01</td>\n",
       "      <td>-7.321672e+01</td>\n",
       "      <td>-1.343407e+01</td>\n",
       "      <td>...</td>\n",
       "      <td>-3.483038e+01</td>\n",
       "      <td>-1.093314e+01</td>\n",
       "      <td>-4.480774e+01</td>\n",
       "      <td>-2.836627e+00</td>\n",
       "      <td>-1.029540e+01</td>\n",
       "      <td>-2.604551e+00</td>\n",
       "      <td>-2.256568e+01</td>\n",
       "      <td>-1.543008e+01</td>\n",
       "      <td>0.000000</td>\n",
       "      <td>0.000000</td>\n",
       "    </tr>\n",
       "    <tr>\n",
       "      <th>25%</th>\n",
       "      <td>54201.500000</td>\n",
       "      <td>-9.203734e-01</td>\n",
       "      <td>-5.985499e-01</td>\n",
       "      <td>-8.903648e-01</td>\n",
       "      <td>-8.486401e-01</td>\n",
       "      <td>-6.915971e-01</td>\n",
       "      <td>-7.682956e-01</td>\n",
       "      <td>-5.540759e-01</td>\n",
       "      <td>-2.086297e-01</td>\n",
       "      <td>-6.430976e-01</td>\n",
       "      <td>...</td>\n",
       "      <td>-2.283949e-01</td>\n",
       "      <td>-5.423504e-01</td>\n",
       "      <td>-1.618463e-01</td>\n",
       "      <td>-3.545861e-01</td>\n",
       "      <td>-3.171451e-01</td>\n",
       "      <td>-3.269839e-01</td>\n",
       "      <td>-7.083953e-02</td>\n",
       "      <td>-5.295979e-02</td>\n",
       "      <td>5.600000</td>\n",
       "      <td>0.000000</td>\n",
       "    </tr>\n",
       "    <tr>\n",
       "      <th>50%</th>\n",
       "      <td>84692.000000</td>\n",
       "      <td>1.810880e-02</td>\n",
       "      <td>6.548556e-02</td>\n",
       "      <td>1.798463e-01</td>\n",
       "      <td>-1.984653e-02</td>\n",
       "      <td>-5.433583e-02</td>\n",
       "      <td>-2.741871e-01</td>\n",
       "      <td>4.010308e-02</td>\n",
       "      <td>2.235804e-02</td>\n",
       "      <td>-5.142873e-02</td>\n",
       "      <td>...</td>\n",
       "      <td>-2.945017e-02</td>\n",
       "      <td>6.781943e-03</td>\n",
       "      <td>-1.119293e-02</td>\n",
       "      <td>4.097606e-02</td>\n",
       "      <td>1.659350e-02</td>\n",
       "      <td>-5.213911e-02</td>\n",
       "      <td>1.342146e-03</td>\n",
       "      <td>1.124383e-02</td>\n",
       "      <td>22.000000</td>\n",
       "      <td>0.000000</td>\n",
       "    </tr>\n",
       "    <tr>\n",
       "      <th>75%</th>\n",
       "      <td>139320.500000</td>\n",
       "      <td>1.315642e+00</td>\n",
       "      <td>8.037239e-01</td>\n",
       "      <td>1.027196e+00</td>\n",
       "      <td>7.433413e-01</td>\n",
       "      <td>6.119264e-01</td>\n",
       "      <td>3.985649e-01</td>\n",
       "      <td>5.704361e-01</td>\n",
       "      <td>3.273459e-01</td>\n",
       "      <td>5.971390e-01</td>\n",
       "      <td>...</td>\n",
       "      <td>1.863772e-01</td>\n",
       "      <td>5.285536e-01</td>\n",
       "      <td>1.476421e-01</td>\n",
       "      <td>4.395266e-01</td>\n",
       "      <td>3.507156e-01</td>\n",
       "      <td>2.409522e-01</td>\n",
       "      <td>9.104512e-02</td>\n",
       "      <td>7.827995e-02</td>\n",
       "      <td>77.165000</td>\n",
       "      <td>0.000000</td>\n",
       "    </tr>\n",
       "    <tr>\n",
       "      <th>max</th>\n",
       "      <td>172792.000000</td>\n",
       "      <td>2.454930e+00</td>\n",
       "      <td>2.205773e+01</td>\n",
       "      <td>9.382558e+00</td>\n",
       "      <td>1.687534e+01</td>\n",
       "      <td>3.480167e+01</td>\n",
       "      <td>7.330163e+01</td>\n",
       "      <td>1.205895e+02</td>\n",
       "      <td>2.000721e+01</td>\n",
       "      <td>1.559499e+01</td>\n",
       "      <td>...</td>\n",
       "      <td>2.720284e+01</td>\n",
       "      <td>1.050309e+01</td>\n",
       "      <td>2.252841e+01</td>\n",
       "      <td>4.584549e+00</td>\n",
       "      <td>7.519589e+00</td>\n",
       "      <td>3.517346e+00</td>\n",
       "      <td>3.161220e+01</td>\n",
       "      <td>3.384781e+01</td>\n",
       "      <td>25691.160000</td>\n",
       "      <td>1.000000</td>\n",
       "    </tr>\n",
       "  </tbody>\n",
       "</table>\n",
       "<p>8 rows × 31 columns</p>\n",
       "</div>"
      ],
      "text/plain": [
       "                Time            V1            V2            V3            V4  \\\n",
       "count  284807.000000  2.848070e+05  2.848070e+05  2.848070e+05  2.848070e+05   \n",
       "mean    94813.859575  1.168375e-15  3.416908e-16 -1.379537e-15  2.074095e-15   \n",
       "std     47488.145955  1.958696e+00  1.651309e+00  1.516255e+00  1.415869e+00   \n",
       "min         0.000000 -5.640751e+01 -7.271573e+01 -4.832559e+01 -5.683171e+00   \n",
       "25%     54201.500000 -9.203734e-01 -5.985499e-01 -8.903648e-01 -8.486401e-01   \n",
       "50%     84692.000000  1.810880e-02  6.548556e-02  1.798463e-01 -1.984653e-02   \n",
       "75%    139320.500000  1.315642e+00  8.037239e-01  1.027196e+00  7.433413e-01   \n",
       "max    172792.000000  2.454930e+00  2.205773e+01  9.382558e+00  1.687534e+01   \n",
       "\n",
       "                 V5            V6            V7            V8            V9  \\\n",
       "count  2.848070e+05  2.848070e+05  2.848070e+05  2.848070e+05  2.848070e+05   \n",
       "mean   9.604066e-16  1.487313e-15 -5.556467e-16  1.213481e-16 -2.406331e-15   \n",
       "std    1.380247e+00  1.332271e+00  1.237094e+00  1.194353e+00  1.098632e+00   \n",
       "min   -1.137433e+02 -2.616051e+01 -4.355724e+01 -7.321672e+01 -1.343407e+01   \n",
       "25%   -6.915971e-01 -7.682956e-01 -5.540759e-01 -2.086297e-01 -6.430976e-01   \n",
       "50%   -5.433583e-02 -2.741871e-01  4.010308e-02  2.235804e-02 -5.142873e-02   \n",
       "75%    6.119264e-01  3.985649e-01  5.704361e-01  3.273459e-01  5.971390e-01   \n",
       "max    3.480167e+01  7.330163e+01  1.205895e+02  2.000721e+01  1.559499e+01   \n",
       "\n",
       "       ...           V21           V22           V23           V24  \\\n",
       "count  ...  2.848070e+05  2.848070e+05  2.848070e+05  2.848070e+05   \n",
       "mean   ...  1.654067e-16 -3.568593e-16  2.578648e-16  4.473266e-15   \n",
       "std    ...  7.345240e-01  7.257016e-01  6.244603e-01  6.056471e-01   \n",
       "min    ... -3.483038e+01 -1.093314e+01 -4.480774e+01 -2.836627e+00   \n",
       "25%    ... -2.283949e-01 -5.423504e-01 -1.618463e-01 -3.545861e-01   \n",
       "50%    ... -2.945017e-02  6.781943e-03 -1.119293e-02  4.097606e-02   \n",
       "75%    ...  1.863772e-01  5.285536e-01  1.476421e-01  4.395266e-01   \n",
       "max    ...  2.720284e+01  1.050309e+01  2.252841e+01  4.584549e+00   \n",
       "\n",
       "                V25           V26           V27           V28         Amount  \\\n",
       "count  2.848070e+05  2.848070e+05  2.848070e+05  2.848070e+05  284807.000000   \n",
       "mean   5.340915e-16  1.683437e-15 -3.660091e-16 -1.227390e-16      88.349619   \n",
       "std    5.212781e-01  4.822270e-01  4.036325e-01  3.300833e-01     250.120109   \n",
       "min   -1.029540e+01 -2.604551e+00 -2.256568e+01 -1.543008e+01       0.000000   \n",
       "25%   -3.171451e-01 -3.269839e-01 -7.083953e-02 -5.295979e-02       5.600000   \n",
       "50%    1.659350e-02 -5.213911e-02  1.342146e-03  1.124383e-02      22.000000   \n",
       "75%    3.507156e-01  2.409522e-01  9.104512e-02  7.827995e-02      77.165000   \n",
       "max    7.519589e+00  3.517346e+00  3.161220e+01  3.384781e+01   25691.160000   \n",
       "\n",
       "               Class  \n",
       "count  284807.000000  \n",
       "mean        0.001727  \n",
       "std         0.041527  \n",
       "min         0.000000  \n",
       "25%         0.000000  \n",
       "50%         0.000000  \n",
       "75%         0.000000  \n",
       "max         1.000000  \n",
       "\n",
       "[8 rows x 31 columns]"
      ]
     },
     "execution_count": 5,
     "metadata": {},
     "output_type": "execute_result"
    }
   ],
   "source": [
    "credit_card.describe()"
   ]
  },
  {
   "cell_type": "markdown",
   "id": "6093f83c",
   "metadata": {
    "papermill": {
     "duration": 0.015166,
     "end_time": "2023-05-19T08:24:23.602482",
     "exception": false,
     "start_time": "2023-05-19T08:24:23.587316",
     "status": "completed"
    },
    "tags": []
   },
   "source": [
    "We can see that only `Time` and `Amount` have drastically different scales from the other variables. We'll have to scale them later."
   ]
  },
  {
   "cell_type": "markdown",
   "id": "602b4270",
   "metadata": {
    "papermill": {
     "duration": 0.015214,
     "end_time": "2023-05-19T08:24:23.634045",
     "exception": false,
     "start_time": "2023-05-19T08:24:23.618831",
     "status": "completed"
    },
    "tags": []
   },
   "source": [
    "# Exploratory Data Analysis (EDA)\n",
    "\n",
    "Before we do anything, let's perform a basic EDA on the three variables that are still interpretable."
   ]
  },
  {
   "cell_type": "markdown",
   "id": "39313da3",
   "metadata": {
    "papermill": {
     "duration": 0.015169,
     "end_time": "2023-05-19T08:24:23.664596",
     "exception": false,
     "start_time": "2023-05-19T08:24:23.649427",
     "status": "completed"
    },
    "tags": []
   },
   "source": [
    "## Target Variable: `Class`"
   ]
  },
  {
   "cell_type": "code",
   "execution_count": 6,
   "id": "84c0dc69",
   "metadata": {
    "execution": {
     "iopub.execute_input": "2023-05-19T08:24:23.696886Z",
     "iopub.status.busy": "2023-05-19T08:24:23.696490Z",
     "iopub.status.idle": "2023-05-19T08:24:23.882620Z",
     "shell.execute_reply": "2023-05-19T08:24:23.881667Z"
    },
    "papermill": {
     "duration": 0.205227,
     "end_time": "2023-05-19T08:24:23.884890",
     "exception": false,
     "start_time": "2023-05-19T08:24:23.679663",
     "status": "completed"
    },
    "tags": []
   },
   "outputs": [
    {
     "data": {
      "text/plain": [
       "<Axes: xlabel='Class', ylabel='count'>"
      ]
     },
     "execution_count": 6,
     "metadata": {},
     "output_type": "execute_result"
    },
    {
     "data": {
      "image/png": "[encoded data removed]",
      "text/plain": [
       "<Figure size 640x480 with 1 Axes>"
      ]
     },
     "metadata": {},
     "output_type": "display_data"
    }
   ],
   "source": [
    "sns.countplot(x=credit_card[\"Class\"])"
   ]
  },
  {
   "cell_type": "code",
   "execution_count": 7,
   "id": "304994c9",
   "metadata": {
    "execution": {
     "iopub.execute_input": "2023-05-19T08:24:23.920401Z",
     "iopub.status.busy": "2023-05-19T08:24:23.919074Z",
     "iopub.status.idle": "2023-05-19T08:24:23.929955Z",
     "shell.execute_reply": "2023-05-19T08:24:23.928554Z"
    },
    "papermill": {
     "duration": 0.030489,
     "end_time": "2023-05-19T08:24:23.932470",
     "exception": false,
     "start_time": "2023-05-19T08:24:23.901981",
     "status": "completed"
    },
    "tags": []
   },
   "outputs": [
    {
     "data": {
      "text/plain": [
       "Class\n",
       "0    284315\n",
       "1       492\n",
       "Name: count, dtype: int64"
      ]
     },
     "execution_count": 7,
     "metadata": {},
     "output_type": "execute_result"
    }
   ],
   "source": [
    "credit_card[\"Class\"].value_counts()"
   ]
  },
  {
   "cell_type": "markdown",
   "id": "37f2b6d7",
   "metadata": {
    "papermill": {
     "duration": 0.015536,
     "end_time": "2023-05-19T08:24:23.963882",
     "exception": false,
     "start_time": "2023-05-19T08:24:23.948346",
     "status": "completed"
    },
    "tags": []
   },
   "source": [
    "From the count plot, we can observe the extreme imbalance between the two classes of our target variable. This dataset is an accurate reflection of a real-world dataset. Obviously, most credit card transactions are not going to be fraud."
   ]
  },
  {
   "cell_type": "markdown",
   "id": "af08f1d8",
   "metadata": {
    "papermill": {
     "duration": 0.015719,
     "end_time": "2023-05-19T08:24:23.995454",
     "exception": false,
     "start_time": "2023-05-19T08:24:23.979735",
     "status": "completed"
    },
    "tags": []
   },
   "source": [
    "## `Time` and `Amount`"
   ]
  },
  {
   "cell_type": "code",
   "execution_count": 8,
   "id": "c5bd2a22",
   "metadata": {
    "execution": {
     "iopub.execute_input": "2023-05-19T08:24:24.028508Z",
     "iopub.status.busy": "2023-05-19T08:24:24.028103Z",
     "iopub.status.idle": "2023-05-19T08:24:24.382395Z",
     "shell.execute_reply": "2023-05-19T08:24:24.380647Z"
    },
    "papermill": {
     "duration": 0.37406,
     "end_time": "2023-05-19T08:24:24.385263",
     "exception": false,
     "start_time": "2023-05-19T08:24:24.011203",
     "status": "completed"
    },
    "tags": []
   },
   "outputs": [
    {
     "data": {
      "text/plain": [
       "<Axes: xlabel='Time', ylabel='Count'>"
      ]
     },
     "execution_count": 8,
     "metadata": {},
     "output_type": "execute_result"
    },
    {
     "data": {
      "image/png": "[encoded data removed]",
      "text/plain": [
       "<Figure size 640x480 with 1 Axes>"
      ]
     },
     "metadata": {},
     "output_type": "display_data"
    }
   ],
   "source": [
    "sns.histplot(data=credit_card, x=\"Time\")"
   ]
  },
  {
   "cell_type": "code",
   "execution_count": 9,
   "id": "91491896",
   "metadata": {
    "execution": {
     "iopub.execute_input": "2023-05-19T08:24:24.419515Z",
     "iopub.status.busy": "2023-05-19T08:24:24.419130Z",
     "iopub.status.idle": "2023-05-19T08:24:25.373627Z",
     "shell.execute_reply": "2023-05-19T08:24:25.372856Z"
    },
    "papermill": {
     "duration": 0.973831,
     "end_time": "2023-05-19T08:24:25.375494",
     "exception": false,
     "start_time": "2023-05-19T08:24:24.401663",
     "status": "completed"
    },
    "tags": []
   },
   "outputs": [
    {
     "data": {
      "text/plain": [
       "<Axes: xlabel='Amount', ylabel='Count'>"
      ]
     },
     "execution_count": 9,
     "metadata": {},
     "output_type": "execute_result"
    },
    {
     "data": {
      "image/png": "[encoded data removed]",
      "text/plain": [
       "<Figure size 640x480 with 1 Axes>"
      ]
     },
     "metadata": {},
     "output_type": "display_data"
    }
   ],
   "source": [
    "sns.histplot(data=credit_card, x=\"Amount\", bins=500)"
   ]
  },
  {
   "cell_type": "markdown",
   "id": "09905ccb",
   "metadata": {
    "papermill": {
     "duration": 0.016189,
     "end_time": "2023-05-19T08:24:25.408380",
     "exception": false,
     "start_time": "2023-05-19T08:24:25.392191",
     "status": "completed"
    },
    "tags": []
   },
   "source": [
    "For `Time` and `Amount`, we'll plot them using a histogram since they're both numerical variables. We can also see that both distributions are quite weirdly shaped, with `Amount` being especially skewed to the right. It's important that we have to transform them later."
   ]
  },
  {
   "cell_type": "markdown",
   "id": "5f343bb9",
   "metadata": {
    "papermill": {
     "duration": 0.015906,
     "end_time": "2023-05-19T08:24:25.440523",
     "exception": false,
     "start_time": "2023-05-19T08:24:25.424617",
     "status": "completed"
    },
    "tags": []
   },
   "source": [
    "# Train-Test-Split\n",
    "\n",
    "But before we jump in to process the data, let's split the data into training and testing."
   ]
  },
  {
   "cell_type": "code",
   "execution_count": 10,
   "id": "8f300f48",
   "metadata": {
    "execution": {
     "iopub.execute_input": "2023-05-19T08:24:25.475044Z",
     "iopub.status.busy": "2023-05-19T08:24:25.474464Z",
     "iopub.status.idle": "2023-05-19T08:24:25.634919Z",
     "shell.execute_reply": "2023-05-19T08:24:25.633716Z"
    },
    "papermill": {
     "duration": 0.18069,
     "end_time": "2023-05-19T08:24:25.637487",
     "exception": false,
     "start_time": "2023-05-19T08:24:25.456797",
     "status": "completed"
    },
    "tags": []
   },
   "outputs": [],
   "source": [
    "y = credit_card.Class\n",
    "X = credit_card.drop('Class', axis=1)\n",
    "\n",
    "#split so that the proportions of imbalance remains the same in the training and testing\n",
    "X_train, X_test, y_train, y_test = train_test_split(X, y, test_size=0.33, random_state=42, stratify=y)"
   ]
  },
  {
   "cell_type": "markdown",
   "id": "60cf4645",
   "metadata": {
    "papermill": {
     "duration": 0.016472,
     "end_time": "2023-05-19T08:24:25.671055",
     "exception": false,
     "start_time": "2023-05-19T08:24:25.654583",
     "status": "completed"
    },
    "tags": []
   },
   "source": [
    "We'll split the training and testing dataset such that the proportions of class `1` and class `0` are the same in both the training and testing dataset. This will ensure that our model evaluations are accurate."
   ]
  },
  {
   "cell_type": "code",
   "execution_count": 11,
   "id": "1f7a33e9",
   "metadata": {
    "execution": {
     "iopub.execute_input": "2023-05-19T08:24:25.707170Z",
     "iopub.status.busy": "2023-05-19T08:24:25.706275Z",
     "iopub.status.idle": "2023-05-19T08:24:25.715406Z",
     "shell.execute_reply": "2023-05-19T08:24:25.714763Z"
    },
    "papermill": {
     "duration": 0.029027,
     "end_time": "2023-05-19T08:24:25.717074",
     "exception": false,
     "start_time": "2023-05-19T08:24:25.688047",
     "status": "completed"
    },
    "tags": []
   },
   "outputs": [
    {
     "data": {
      "text/plain": [
       "Class\n",
       "0    0.998271\n",
       "1    0.001729\n",
       "Name: proportion, dtype: float64"
      ]
     },
     "execution_count": 11,
     "metadata": {},
     "output_type": "execute_result"
    }
   ],
   "source": [
    "#training dataset proportion\n",
    "y_train.value_counts(normalize=True)"
   ]
  },
  {
   "cell_type": "code",
   "execution_count": 12,
   "id": "944f8931",
   "metadata": {
    "execution": {
     "iopub.execute_input": "2023-05-19T08:24:25.752080Z",
     "iopub.status.busy": "2023-05-19T08:24:25.750863Z",
     "iopub.status.idle": "2023-05-19T08:24:25.760775Z",
     "shell.execute_reply": "2023-05-19T08:24:25.760019Z"
    },
    "papermill": {
     "duration": 0.028966,
     "end_time": "2023-05-19T08:24:25.762415",
     "exception": false,
     "start_time": "2023-05-19T08:24:25.733449",
     "status": "completed"
    },
    "tags": []
   },
   "outputs": [
    {
     "data": {
      "text/plain": [
       "Class\n",
       "0    0.998276\n",
       "1    0.001724\n",
       "Name: proportion, dtype: float64"
      ]
     },
     "execution_count": 12,
     "metadata": {},
     "output_type": "execute_result"
    }
   ],
   "source": [
    "#testing dataset proportion\n",
    "y_test.value_counts(normalize=True)"
   ]
  },
  {
   "cell_type": "markdown",
   "id": "93c7a933",
   "metadata": {
    "papermill": {
     "duration": 0.020254,
     "end_time": "2023-05-19T08:24:25.800157",
     "exception": false,
     "start_time": "2023-05-19T08:24:25.779903",
     "status": "completed"
    },
    "tags": []
   },
   "source": [
    "# Data Preprocessing\n",
    "\n",
    "Next, let's scale `Time` and `Amount`. We'll be using the `PowerTransfomer` to help us automatically scale and normalize the two variables."
   ]
  },
  {
   "cell_type": "code",
   "execution_count": 13,
   "id": "c340ef37",
   "metadata": {
    "execution": {
     "iopub.execute_input": "2023-05-19T08:24:25.835292Z",
     "iopub.status.busy": "2023-05-19T08:24:25.834713Z",
     "iopub.status.idle": "2023-05-19T08:24:26.536490Z",
     "shell.execute_reply": "2023-05-19T08:24:26.535393Z"
    },
    "papermill": {
     "duration": 0.721988,
     "end_time": "2023-05-19T08:24:26.538824",
     "exception": false,
     "start_time": "2023-05-19T08:24:25.816836",
     "status": "completed"
    },
    "tags": []
   },
   "outputs": [
    {
     "data": {
      "text/plain": [
       "<Axes: xlabel='Amount_scaled', ylabel='Count'>"
      ]
     },
     "execution_count": 13,
     "metadata": {},
     "output_type": "execute_result"
    },
    {
     "data": {
      "image/png": "[encoded data removed]",
      "text/plain": [
       "<Figure size 640x480 with 1 Axes>"
      ]
     },
     "metadata": {},
     "output_type": "display_data"
    }
   ],
   "source": [
    "#instantiate power transformer\n",
    "pt_amount = PowerTransformer()\n",
    "\n",
    "#transform amount \n",
    "X_train['Amount_scaled'] = pt_amount.fit_transform(X_train['Amount'].values.reshape(-1,1))\n",
    "sns.histplot(data=X_train, x=\"Amount_scaled\", bins=100)"
   ]
  },
  {
   "cell_type": "code",
   "execution_count": 14,
   "id": "db4e79c9",
   "metadata": {
    "execution": {
     "iopub.execute_input": "2023-05-19T08:24:26.574650Z",
     "iopub.status.busy": "2023-05-19T08:24:26.574134Z",
     "iopub.status.idle": "2023-05-19T08:24:27.112729Z",
     "shell.execute_reply": "2023-05-19T08:24:27.111385Z"
    },
    "papermill": {
     "duration": 0.559304,
     "end_time": "2023-05-19T08:24:27.115134",
     "exception": false,
     "start_time": "2023-05-19T08:24:26.555830",
     "status": "completed"
    },
    "tags": []
   },
   "outputs": [
    {
     "data": {
      "text/plain": [
       "<Axes: xlabel='Time_scaled', ylabel='Count'>"
      ]
     },
     "execution_count": 14,
     "metadata": {},
     "output_type": "execute_result"
    },
    {
     "data": {
      "image/png": "[encoded data removed]",
      "text/plain": [
       "<Figure size 640x480 with 1 Axes>"
      ]
     },
     "metadata": {},
     "output_type": "display_data"
    }
   ],
   "source": [
    "#instantiate power transformer\n",
    "pt_time = PowerTransformer()\n",
    "\n",
    "#transform time\n",
    "X_train['Time_scaled'] = pt_time.fit_transform(X_train['Time'].values.reshape(-1,1))\n",
    "sns.histplot(data=X_train, x=\"Time_scaled\", bins=100)"
   ]
  },
  {
   "cell_type": "markdown",
   "id": "84c0130b",
   "metadata": {
    "papermill": {
     "duration": 0.01737,
     "end_time": "2023-05-19T08:24:27.149871",
     "exception": false,
     "start_time": "2023-05-19T08:24:27.132501",
     "status": "completed"
    },
    "tags": []
   },
   "source": [
    "With the scaled `Time_scaled` and `Amount_scaled` in our dataset, we can now safely remove the original `Time` and `Amount` out of our dataframe."
   ]
  },
  {
   "cell_type": "code",
   "execution_count": 15,
   "id": "a5ca7cfa",
   "metadata": {
    "execution": {
     "iopub.execute_input": "2023-05-19T08:24:27.186568Z",
     "iopub.status.busy": "2023-05-19T08:24:27.186155Z",
     "iopub.status.idle": "2023-05-19T08:24:27.233953Z",
     "shell.execute_reply": "2023-05-19T08:24:27.232652Z"
    },
    "papermill": {
     "duration": 0.068575,
     "end_time": "2023-05-19T08:24:27.235767",
     "exception": false,
     "start_time": "2023-05-19T08:24:27.167192",
     "status": "completed"
    },
    "tags": []
   },
   "outputs": [
    {
     "data": {
      "text/html": [
       "<div>\n",
       "<style scoped>\n",
       "    .dataframe tbody tr th:only-of-type {\n",
       "        vertical-align: middle;\n",
       "    }\n",
       "\n",
       "    .dataframe tbody tr th {\n",
       "        vertical-align: top;\n",
       "    }\n",
       "\n",
       "    .dataframe thead th {\n",
       "        text-align: right;\n",
       "    }\n",
       "</style>\n",
       "<table border=\"1\" class=\"dataframe\">\n",
       "  <thead>\n",
       "    <tr style=\"text-align: right;\">\n",
       "      <th></th>\n",
       "      <th>V1</th>\n",
       "      <th>V2</th>\n",
       "      <th>V3</th>\n",
       "      <th>V4</th>\n",
       "      <th>V5</th>\n",
       "      <th>V6</th>\n",
       "      <th>V7</th>\n",
       "      <th>V8</th>\n",
       "      <th>V9</th>\n",
       "      <th>V10</th>\n",
       "      <th>...</th>\n",
       "      <th>V21</th>\n",
       "      <th>V22</th>\n",
       "      <th>V23</th>\n",
       "      <th>V24</th>\n",
       "      <th>V25</th>\n",
       "      <th>V26</th>\n",
       "      <th>V27</th>\n",
       "      <th>V28</th>\n",
       "      <th>Amount_scaled</th>\n",
       "      <th>Time_scaled</th>\n",
       "    </tr>\n",
       "  </thead>\n",
       "  <tbody>\n",
       "    <tr>\n",
       "      <th>198687</th>\n",
       "      <td>1.974025</td>\n",
       "      <td>-1.240696</td>\n",
       "      <td>-0.537317</td>\n",
       "      <td>-0.919764</td>\n",
       "      <td>-1.085459</td>\n",
       "      <td>-0.265272</td>\n",
       "      <td>-0.974899</td>\n",
       "      <td>0.039702</td>\n",
       "      <td>-0.140586</td>\n",
       "      <td>0.840128</td>\n",
       "      <td>...</td>\n",
       "      <td>0.038919</td>\n",
       "      <td>-0.085885</td>\n",
       "      <td>0.272160</td>\n",
       "      <td>-0.422904</td>\n",
       "      <td>-0.534651</td>\n",
       "      <td>-0.487102</td>\n",
       "      <td>-0.004465</td>\n",
       "      <td>-0.040389</td>\n",
       "      <td>0.840660</td>\n",
       "      <td>0.799759</td>\n",
       "    </tr>\n",
       "    <tr>\n",
       "      <th>129694</th>\n",
       "      <td>1.151280</td>\n",
       "      <td>-0.067410</td>\n",
       "      <td>1.274530</td>\n",
       "      <td>1.348017</td>\n",
       "      <td>-1.024868</td>\n",
       "      <td>-0.211370</td>\n",
       "      <td>-0.591920</td>\n",
       "      <td>0.118255</td>\n",
       "      <td>0.964253</td>\n",
       "      <td>-0.187955</td>\n",
       "      <td>...</td>\n",
       "      <td>-0.067541</td>\n",
       "      <td>-0.012958</td>\n",
       "      <td>0.001064</td>\n",
       "      <td>0.382891</td>\n",
       "      <td>0.398440</td>\n",
       "      <td>-0.407721</td>\n",
       "      <td>0.069214</td>\n",
       "      <td>0.037420</td>\n",
       "      <td>-0.429427</td>\n",
       "      <td>-0.262668</td>\n",
       "    </tr>\n",
       "    <tr>\n",
       "      <th>204218</th>\n",
       "      <td>2.076327</td>\n",
       "      <td>0.042540</td>\n",
       "      <td>-1.803333</td>\n",
       "      <td>0.385207</td>\n",
       "      <td>0.401630</td>\n",
       "      <td>-0.735175</td>\n",
       "      <td>0.072287</td>\n",
       "      <td>-0.120261</td>\n",
       "      <td>0.716797</td>\n",
       "      <td>-0.345200</td>\n",
       "      <td>...</td>\n",
       "      <td>-0.385648</td>\n",
       "      <td>-1.066798</td>\n",
       "      <td>0.342803</td>\n",
       "      <td>0.280876</td>\n",
       "      <td>-0.298808</td>\n",
       "      <td>0.191718</td>\n",
       "      <td>-0.068979</td>\n",
       "      <td>-0.035671</td>\n",
       "      <td>-1.271088</td>\n",
       "      <td>0.847982</td>\n",
       "    </tr>\n",
       "    <tr>\n",
       "      <th>134361</th>\n",
       "      <td>0.951966</td>\n",
       "      <td>-1.002169</td>\n",
       "      <td>0.649152</td>\n",
       "      <td>0.089675</td>\n",
       "      <td>-1.505037</td>\n",
       "      <td>-0.869371</td>\n",
       "      <td>-0.330709</td>\n",
       "      <td>-0.275044</td>\n",
       "      <td>-0.912232</td>\n",
       "      <td>0.619807</td>\n",
       "      <td>...</td>\n",
       "      <td>-0.035766</td>\n",
       "      <td>0.021394</td>\n",
       "      <td>-0.168223</td>\n",
       "      <td>0.784533</td>\n",
       "      <td>0.254052</td>\n",
       "      <td>0.615930</td>\n",
       "      <td>-0.031235</td>\n",
       "      <td>0.060012</td>\n",
       "      <td>1.291711</td>\n",
       "      <td>-0.229212</td>\n",
       "    </tr>\n",
       "    <tr>\n",
       "      <th>173252</th>\n",
       "      <td>-0.418134</td>\n",
       "      <td>-0.093914</td>\n",
       "      <td>0.306298</td>\n",
       "      <td>-2.548619</td>\n",
       "      <td>0.683397</td>\n",
       "      <td>-0.302791</td>\n",
       "      <td>0.554178</td>\n",
       "      <td>-0.103122</td>\n",
       "      <td>-0.808220</td>\n",
       "      <td>0.563669</td>\n",
       "      <td>...</td>\n",
       "      <td>-0.064795</td>\n",
       "      <td>-0.081516</td>\n",
       "      <td>0.115211</td>\n",
       "      <td>0.220057</td>\n",
       "      <td>-0.426465</td>\n",
       "      <td>-0.610719</td>\n",
       "      <td>0.093378</td>\n",
       "      <td>-0.027043</td>\n",
       "      <td>-0.718495</td>\n",
       "      <td>0.586599</td>\n",
       "    </tr>\n",
       "  </tbody>\n",
       "</table>\n",
       "<p>5 rows × 30 columns</p>\n",
       "</div>"
      ],
      "text/plain": [
       "              V1        V2        V3        V4        V5        V6        V7  \\\n",
       "198687  1.974025 -1.240696 -0.537317 -0.919764 -1.085459 -0.265272 -0.974899   \n",
       "129694  1.151280 -0.067410  1.274530  1.348017 -1.024868 -0.211370 -0.591920   \n",
       "204218  2.076327  0.042540 -1.803333  0.385207  0.401630 -0.735175  0.072287   \n",
       "134361  0.951966 -1.002169  0.649152  0.089675 -1.505037 -0.869371 -0.330709   \n",
       "173252 -0.418134 -0.093914  0.306298 -2.548619  0.683397 -0.302791  0.554178   \n",
       "\n",
       "              V8        V9       V10  ...       V21       V22       V23  \\\n",
       "198687  0.039702 -0.140586  0.840128  ...  0.038919 -0.085885  0.272160   \n",
       "129694  0.118255  0.964253 -0.187955  ... -0.067541 -0.012958  0.001064   \n",
       "204218 -0.120261  0.716797 -0.345200  ... -0.385648 -1.066798  0.342803   \n",
       "134361 -0.275044 -0.912232  0.619807  ... -0.035766  0.021394 -0.168223   \n",
       "173252 -0.103122 -0.808220  0.563669  ... -0.064795 -0.081516  0.115211   \n",
       "\n",
       "             V24       V25       V26       V27       V28  Amount_scaled  \\\n",
       "198687 -0.422904 -0.534651 -0.487102 -0.004465 -0.040389       0.840660   \n",
       "129694  0.382891  0.398440 -0.407721  0.069214  0.037420      -0.429427   \n",
       "204218  0.280876 -0.298808  0.191718 -0.068979 -0.035671      -1.271088   \n",
       "134361  0.784533  0.254052  0.615930 -0.031235  0.060012       1.291711   \n",
       "173252  0.220057 -0.426465 -0.610719  0.093378 -0.027043      -0.718495   \n",
       "\n",
       "        Time_scaled  \n",
       "198687     0.799759  \n",
       "129694    -0.262668  \n",
       "204218     0.847982  \n",
       "134361    -0.229212  \n",
       "173252     0.586599  \n",
       "\n",
       "[5 rows x 30 columns]"
      ]
     },
     "execution_count": 15,
     "metadata": {},
     "output_type": "execute_result"
    }
   ],
   "source": [
    "#drop origianl time and amount\n",
    "X_train = X_train.drop(['Time', 'Amount'], axis=1)\n",
    "X_train.head()"
   ]
  },
  {
   "cell_type": "markdown",
   "id": "539bbea1",
   "metadata": {
    "papermill": {
     "duration": 0.017396,
     "end_time": "2023-05-19T08:24:27.270762",
     "exception": false,
     "start_time": "2023-05-19T08:24:27.253366",
     "status": "completed"
    },
    "tags": []
   },
   "source": [
    "Perfect! Next, we can apply the `PowerTransformer` to our testing dataset as well. The reason we apply transformation to the testing dataset after the training dataset is to prevent **data leakage**. Remember, we have to treat the testing dataset like we never knew about it during the training stage."
   ]
  },
  {
   "cell_type": "code",
   "execution_count": 16,
   "id": "85ea2c20",
   "metadata": {
    "execution": {
     "iopub.execute_input": "2023-05-19T08:24:27.308368Z",
     "iopub.status.busy": "2023-05-19T08:24:27.307722Z",
     "iopub.status.idle": "2023-05-19T08:24:27.333430Z",
     "shell.execute_reply": "2023-05-19T08:24:27.332353Z"
    },
    "papermill": {
     "duration": 0.047254,
     "end_time": "2023-05-19T08:24:27.335845",
     "exception": false,
     "start_time": "2023-05-19T08:24:27.288591",
     "status": "completed"
    },
    "tags": []
   },
   "outputs": [],
   "source": [
    "#transform Amount and Time for testing data\n",
    "X_test['Amount_scaled'] = pt_amount.transform(X_test['Amount'].values.reshape(-1,1))\n",
    "X_test['Time_scaled'] = pt_time.transform(X_test['Time'].values.reshape(-1,1))\n",
    "\n",
    "X_test = X_test.drop(['Time', 'Amount'], axis=1)"
   ]
  },
  {
   "cell_type": "markdown",
   "id": "2ae5bd42",
   "metadata": {
    "papermill": {
     "duration": 0.017232,
     "end_time": "2023-05-19T08:24:27.370733",
     "exception": false,
     "start_time": "2023-05-19T08:24:27.353501",
     "status": "completed"
    },
    "tags": []
   },
   "source": [
    "Awesome! Now that we've performed some basic data preprocessing, let's move on to experiment with different methods of dealing with imbalanced data."
   ]
  },
  {
   "cell_type": "markdown",
   "id": "1b4f62c0",
   "metadata": {
    "papermill": {
     "duration": 0.017157,
     "end_time": "2023-05-19T08:24:27.405483",
     "exception": false,
     "start_time": "2023-05-19T08:24:27.388326",
     "status": "completed"
    },
    "tags": []
   },
   "source": [
    "# ⚖️ Dealing with Imbalanced Data\n",
    "\n",
    "Imbalanced datasets are a pain to deal with. The most famous treatment for imbalanced dataset is probably **SMOTE**, which stands for **Synthetic Minority Oversampling TEchnique**. It deals with imbalanced data by generating synthetic samples of the minority class based on the characteristics of its existing samples. Other sampling methods like **Oversampling** and **Undersampling** could also potentially work to solve imbalanced datasets. We'll look into each of these one-by-one. But before we conduct any sampling techniques, why not take a look at the different models we can use? Some models intrinsically perform better with imbalanced data than others. Typically, tree-based and boosting algorithms perform better with imbalanced data. Boosting models are especially ideal as higher weight is given to the minority class at each iteration. \n",
    "\n",
    "## Good for Imbalanced Dataset\n",
    "- Decision Tree\n",
    "- Random Forest\n",
    "- Adaboost\n",
    "- Gradient Boosting\n",
    "\n",
    "## Bad for Imbalanced Dataset\n",
    "- Logistics Regression\n",
    "- Support Vector Classifier\n",
    "- Naives Bayes"
   ]
  },
  {
   "cell_type": "markdown",
   "id": "3c134c50",
   "metadata": {
    "papermill": {
     "duration": 0.01723,
     "end_time": "2023-05-19T08:24:27.440284",
     "exception": false,
     "start_time": "2023-05-19T08:24:27.423054",
     "status": "completed"
    },
    "tags": []
   },
   "source": [
    "# Logistics Regression\n",
    "\n",
    "Let's start by building a logistic regression model as our baseline model. How would this supposedly weak-performing model do?"
   ]
  },
  {
   "cell_type": "code",
   "execution_count": 17,
   "id": "c7b23f13",
   "metadata": {
    "execution": {
     "iopub.execute_input": "2023-05-19T08:24:27.477259Z",
     "iopub.status.busy": "2023-05-19T08:24:27.476915Z",
     "iopub.status.idle": "2023-05-19T08:24:29.316861Z",
     "shell.execute_reply": "2023-05-19T08:24:29.316081Z"
    },
    "papermill": {
     "duration": 1.861112,
     "end_time": "2023-05-19T08:24:29.318881",
     "exception": false,
     "start_time": "2023-05-19T08:24:27.457769",
     "status": "completed"
    },
    "tags": []
   },
   "outputs": [
    {
     "name": "stdout",
     "output_type": "stream",
     "text": [
      "Logistics Regression Accuracy:  0.9991807377616053\n"
     ]
    },
    {
     "data": {
      "image/png": "[encoded data removed]",
      "text/plain": [
       "<Figure size 640x480 with 2 Axes>"
      ]
     },
     "metadata": {},
     "output_type": "display_data"
    }
   ],
   "source": [
    "#build logistics regression model\n",
    "log_reg = LogisticRegression()\n",
    "\n",
    "log_reg.fit(X_train, y_train)\n",
    "y_pred = log_reg.predict(X_test)\n",
    "\n",
    "log_reg_accuracy = accuracy_score(y_test, y_pred)\n",
    "print(\"Logistics Regression Accuracy: \", log_reg_accuracy)\n",
    "\n",
    "#create confusion matrix\n",
    "cm = confusion_matrix(y_test, y_pred)\n",
    "\n",
    "ax= plt.subplot()\n",
    "sns.heatmap(cm, annot=True, fmt='g', ax=ax);  #ftm='g' to disable scientific notation\n",
    "\n",
    "ax.set_xlabel('Predicted labels');ax.set_ylabel('True labels'); \n",
    "ax.set_title('Confusion Matrix'); \n",
    "ax.xaxis.set_ticklabels(['Not Fraud', 'Fraud']); ax.yaxis.set_ticklabels(['Not Fraud', 'Fraud']);"
   ]
  },
  {
   "cell_type": "markdown",
   "id": "4a48949e",
   "metadata": {
    "papermill": {
     "duration": 0.017791,
     "end_time": "2023-05-19T08:24:29.355400",
     "exception": false,
     "start_time": "2023-05-19T08:24:29.337609",
     "status": "completed"
    },
    "tags": []
   },
   "source": [
    "Wow! Would you look at that accuracy! 99.9%! Who said logistic regression models sucked at predicting imbalanced classes? Okay, let's take a step back. Don't be misguided by the high accuracy. In normal classification tasks, we're motivated to aim for higher accuracy. But in extremely imbalanced datasets, accuracy is a flawed metric. Why? Because as long as the classification model classifies every sample as the majority class, the model would achieve high accuracy. But this destroys the whole purpose! The whole point of our task here is to identify the very few samples of the minority class, or in other words, detect the fraud transactions. So when dealing with imbalanced dataset, we have to look at other metrics. In most cases, we prefer to look at the **F-1 score**, which is the harmonic mean between **precision** and **recall**."
   ]
  },
  {
   "cell_type": "code",
   "execution_count": 18,
   "id": "bf93b804",
   "metadata": {
    "execution": {
     "iopub.execute_input": "2023-05-19T08:24:29.394248Z",
     "iopub.status.busy": "2023-05-19T08:24:29.393808Z",
     "iopub.status.idle": "2023-05-19T08:24:29.474561Z",
     "shell.execute_reply": "2023-05-19T08:24:29.473659Z"
    },
    "papermill": {
     "duration": 0.102476,
     "end_time": "2023-05-19T08:24:29.476783",
     "exception": false,
     "start_time": "2023-05-19T08:24:29.374307",
     "status": "completed"
    },
    "tags": []
   },
   "outputs": [
    {
     "name": "stdout",
     "output_type": "stream",
     "text": [
      "              precision    recall  f1-score   support\n",
      "\n",
      "           0       1.00      1.00      1.00     93825\n",
      "           1       0.86      0.62      0.72       162\n",
      "\n",
      "    accuracy                           1.00     93987\n",
      "   macro avg       0.93      0.81      0.86     93987\n",
      "weighted avg       1.00      1.00      1.00     93987\n",
      "\n"
     ]
    }
   ],
   "source": [
    "#print classification report\n",
    "print(classification_report(y_test, y_pred))"
   ]
  },
  {
   "cell_type": "markdown",
   "id": "9c852699",
   "metadata": {
    "papermill": {
     "duration": 0.018208,
     "end_time": "2023-05-19T08:24:29.513476",
     "exception": false,
     "start_time": "2023-05-19T08:24:29.495268",
     "status": "completed"
    },
    "tags": []
   },
   "source": [
    "Based on the **confusion matrix** and **classification report** above, we can see that the logistics regression model achieved a **precision** of 0.86 and a **recall** of 0.62 for class 1. This means that while 86% of its fraud predictions were correct, it only captured 62% of the fraud transactions. In application, this recall may be too low. Our primary objective is to identify as much fraud transactions as possible."
   ]
  },
  {
   "cell_type": "markdown",
   "id": "a7c8082a",
   "metadata": {
    "papermill": {
     "duration": 0.017787,
     "end_time": "2023-05-19T08:24:29.549562",
     "exception": false,
     "start_time": "2023-05-19T08:24:29.531775",
     "status": "completed"
    },
    "tags": []
   },
   "source": [
    "# Precision-Recall Tradeoff\n",
    "\n",
    "To identify more fraud transactions, what we could do is we could adjust the decision threshold for logistics regression. Each sample is assigned a probability (of it being fraud) by the logistic regression model. The decisive threshold is, by default, 0.5. We can lower that threshold so that more samples are predicted as *Fraud* (therefore capable of capturing more actual frauds)."
   ]
  },
  {
   "cell_type": "code",
   "execution_count": 19,
   "id": "f1c58b73",
   "metadata": {
    "execution": {
     "iopub.execute_input": "2023-05-19T08:24:29.587602Z",
     "iopub.status.busy": "2023-05-19T08:24:29.587203Z",
     "iopub.status.idle": "2023-05-19T08:24:29.799181Z",
     "shell.execute_reply": "2023-05-19T08:24:29.798481Z"
    },
    "papermill": {
     "duration": 0.233814,
     "end_time": "2023-05-19T08:24:29.801617",
     "exception": false,
     "start_time": "2023-05-19T08:24:29.567803",
     "status": "completed"
    },
    "tags": []
   },
   "outputs": [
    {
     "data": {
      "image/png": "[encoded data removed]",
      "text/plain": [
       "<Figure size 640x480 with 2 Axes>"
      ]
     },
     "metadata": {},
     "output_type": "display_data"
    }
   ],
   "source": [
    "#change threshold to 0.2\n",
    "y_pred_new = (log_reg.predict_proba(X_test)[:,1]>=0.2).astype(int)\n",
    "\n",
    "#build confusion matrix\n",
    "cm = confusion_matrix(y_test, y_pred_new)\n",
    "\n",
    "ax= plt.subplot()\n",
    "sns.heatmap(cm, annot=True, fmt='g', ax=ax); \n",
    "\n",
    "ax.set_xlabel('Predicted labels');ax.set_ylabel('True labels'); \n",
    "ax.set_title('Confusion Matrix'); \n",
    "ax.xaxis.set_ticklabels(['Not Fraud', 'Fraud']); ax.yaxis.set_ticklabels(['Not Fraud', 'Fraud']);"
   ]
  },
  {
   "cell_type": "code",
   "execution_count": 20,
   "id": "b1134d58",
   "metadata": {
    "execution": {
     "iopub.execute_input": "2023-05-19T08:24:29.840872Z",
     "iopub.status.busy": "2023-05-19T08:24:29.840226Z",
     "iopub.status.idle": "2023-05-19T08:24:29.914648Z",
     "shell.execute_reply": "2023-05-19T08:24:29.913283Z"
    },
    "papermill": {
     "duration": 0.096671,
     "end_time": "2023-05-19T08:24:29.916968",
     "exception": false,
     "start_time": "2023-05-19T08:24:29.820297",
     "status": "completed"
    },
    "tags": []
   },
   "outputs": [
    {
     "name": "stdout",
     "output_type": "stream",
     "text": [
      "              precision    recall  f1-score   support\n",
      "\n",
      "           0       1.00      1.00      1.00     93825\n",
      "           1       0.79      0.71      0.75       162\n",
      "\n",
      "    accuracy                           1.00     93987\n",
      "   macro avg       0.89      0.85      0.87     93987\n",
      "weighted avg       1.00      1.00      1.00     93987\n",
      "\n"
     ]
    }
   ],
   "source": [
    "print(classification_report(y_test, y_pred_new))"
   ]
  },
  {
   "cell_type": "markdown",
   "id": "68cd6625",
   "metadata": {
    "papermill": {
     "duration": 0.018972,
     "end_time": "2023-05-19T08:24:29.955084",
     "exception": false,
     "start_time": "2023-05-19T08:24:29.936112",
     "status": "completed"
    },
    "tags": []
   },
   "source": [
    "As we can see from above, by lowering the decision threshold to 0.2, we were able to increase our recall from 0.62 to 0.71, meaning we were able to capture an additional 9% of fraud transactions. This achievement, however, does not come without a cost. As we tried to predict more transactions as fraud, we also misclassified more non-fraud transactions as fraud, decreasing the precision (0.86 -> 0.79). Thus, we can observe a **trade-off relationship between precision and recall**.\n",
    "\n",
    "We don't want either one of the value (precision and recall) to be too low, so we must strive for a balance between the two. Thankfully, that is exactly what **F-1 score** is designed to do. The **F-1 score** is the harmonic mean between recall and precision. So from now on, we will use F1-score as our main evaluation metric.\n",
    "\n",
    "In the example of logistic regression, the F-1 score for a threshold=0.2 is greater than that of the default threshold (0.5). Therefore, if we were to use logistic regression as our model, it will be better to set the decision threshold at around 0.2."
   ]
  },
  {
   "cell_type": "markdown",
   "id": "87a69f6a",
   "metadata": {
    "papermill": {
     "duration": 0.018334,
     "end_time": "2023-05-19T08:24:29.992276",
     "exception": false,
     "start_time": "2023-05-19T08:24:29.973942",
     "status": "completed"
    },
    "tags": []
   },
   "source": [
    "# RandomForest\n",
    "\n",
    "Next, let's try building models that are intrinisically better at dealing with imbalanced datasets. We'll start with the `RandomForestClassifier`."
   ]
  },
  {
   "cell_type": "code",
   "execution_count": 21,
   "id": "80db8e53",
   "metadata": {
    "execution": {
     "iopub.execute_input": "2023-05-19T08:24:30.030712Z",
     "iopub.status.busy": "2023-05-19T08:24:30.030334Z",
     "iopub.status.idle": "2023-05-19T08:27:49.596886Z",
     "shell.execute_reply": "2023-05-19T08:27:49.595338Z"
    },
    "papermill": {
     "duration": 199.605817,
     "end_time": "2023-05-19T08:27:49.616787",
     "exception": false,
     "start_time": "2023-05-19T08:24:30.010970",
     "status": "completed"
    },
    "tags": []
   },
   "outputs": [
    {
     "data": {
      "image/png": "[encoded data removed]",
      "text/plain": [
       "<Figure size 640x480 with 2 Axes>"
      ]
     },
     "metadata": {},
     "output_type": "display_data"
    }
   ],
   "source": [
    "#build randomforest model\n",
    "rfm = RandomForestClassifier(random_state=42)\n",
    "\n",
    "rfm.fit(X_train, y_train)\n",
    "rfm_pred = rfm.predict(X_test)\n",
    "\n",
    "#build confusion matrix\n",
    "rfm_cm = confusion_matrix(y_test, rfm_pred)\n",
    "\n",
    "ax= plt.subplot()\n",
    "sns.heatmap(rfm_cm, annot=True, fmt='g', ax=ax);\n",
    "\n",
    "ax.set_xlabel('Predicted labels');ax.set_ylabel('True labels'); \n",
    "ax.set_title('Confusion Matrix'); \n",
    "ax.xaxis.set_ticklabels(['Not Fraud', 'Fraud']); ax.yaxis.set_ticklabels(['Not Fraud', 'Fraud']);"
   ]
  },
  {
   "cell_type": "code",
   "execution_count": 22,
   "id": "5f227466",
   "metadata": {
    "execution": {
     "iopub.execute_input": "2023-05-19T08:27:49.655253Z",
     "iopub.status.busy": "2023-05-19T08:27:49.654925Z",
     "iopub.status.idle": "2023-05-19T08:27:49.732386Z",
     "shell.execute_reply": "2023-05-19T08:27:49.730878Z"
    },
    "papermill": {
     "duration": 0.099265,
     "end_time": "2023-05-19T08:27:49.734556",
     "exception": false,
     "start_time": "2023-05-19T08:27:49.635291",
     "status": "completed"
    },
    "tags": []
   },
   "outputs": [
    {
     "name": "stdout",
     "output_type": "stream",
     "text": [
      "              precision    recall  f1-score   support\n",
      "\n",
      "           0       1.00      1.00      1.00     93825\n",
      "           1       0.95      0.78      0.86       162\n",
      "\n",
      "    accuracy                           1.00     93987\n",
      "   macro avg       0.98      0.89      0.93     93987\n",
      "weighted avg       1.00      1.00      1.00     93987\n",
      "\n"
     ]
    }
   ],
   "source": [
    "print(classification_report(y_test, rfm_pred))"
   ]
  },
  {
   "cell_type": "markdown",
   "id": "b05a3677",
   "metadata": {
    "papermill": {
     "duration": 0.017967,
     "end_time": "2023-05-19T08:27:49.771210",
     "exception": false,
     "start_time": "2023-05-19T08:27:49.753243",
     "status": "completed"
    },
    "tags": []
   },
   "source": [
    "Wow! We can see that `RandomForestClassifier` performed much better than logistics regression! The F-1 score is much higher. Also note that this model is being built without any tuning. We can definitely aim to improve this model."
   ]
  },
  {
   "cell_type": "markdown",
   "id": "40e602be",
   "metadata": {
    "papermill": {
     "duration": 0.018176,
     "end_time": "2023-05-19T08:27:49.807637",
     "exception": false,
     "start_time": "2023-05-19T08:27:49.789461",
     "status": "completed"
    },
    "tags": []
   },
   "source": [
    "# Adaboost\n",
    "\n",
    "Let's also give the `AdaBoostClassifer` a shot."
   ]
  },
  {
   "cell_type": "code",
   "execution_count": 23,
   "id": "b049a450",
   "metadata": {
    "execution": {
     "iopub.execute_input": "2023-05-19T08:27:49.845906Z",
     "iopub.status.busy": "2023-05-19T08:27:49.845545Z",
     "iopub.status.idle": "2023-05-19T08:28:47.330038Z",
     "shell.execute_reply": "2023-05-19T08:28:47.328237Z"
    },
    "papermill": {
     "duration": 57.520966,
     "end_time": "2023-05-19T08:28:47.346926",
     "exception": false,
     "start_time": "2023-05-19T08:27:49.825960",
     "status": "completed"
    },
    "tags": []
   },
   "outputs": [
    {
     "data": {
      "image/png": "[encoded data removed]",
      "text/plain": [
       "<Figure size 640x480 with 2 Axes>"
      ]
     },
     "metadata": {},
     "output_type": "display_data"
    }
   ],
   "source": [
    "#build adaboost classifier\n",
    "ada = AdaBoostClassifier(random_state=42)\n",
    "\n",
    "ada.fit(X_train, y_train)\n",
    "ada_pred = ada.predict(X_test)\n",
    "\n",
    "#build confusion matrix\n",
    "ada_cm = confusion_matrix(y_test, ada_pred)\n",
    "\n",
    "ax= plt.subplot()\n",
    "sns.heatmap(ada_cm, annot=True, fmt='g', ax=ax);\n",
    "\n",
    "ax.set_xlabel('Predicted labels');ax.set_ylabel('True labels'); \n",
    "ax.set_title('Confusion Matrix'); \n",
    "ax.xaxis.set_ticklabels(['Not Fraud', 'Fraud']); ax.yaxis.set_ticklabels(['Not Fraud', 'Fraud']);"
   ]
  },
  {
   "cell_type": "code",
   "execution_count": 24,
   "id": "f44202e0",
   "metadata": {
    "execution": {
     "iopub.execute_input": "2023-05-19T08:28:47.387090Z",
     "iopub.status.busy": "2023-05-19T08:28:47.386667Z",
     "iopub.status.idle": "2023-05-19T08:28:47.462751Z",
     "shell.execute_reply": "2023-05-19T08:28:47.461172Z"
    },
    "papermill": {
     "duration": 0.098675,
     "end_time": "2023-05-19T08:28:47.465075",
     "exception": false,
     "start_time": "2023-05-19T08:28:47.366400",
     "status": "completed"
    },
    "tags": []
   },
   "outputs": [
    {
     "name": "stdout",
     "output_type": "stream",
     "text": [
      "              precision    recall  f1-score   support\n",
      "\n",
      "           0       1.00      1.00      1.00     93825\n",
      "           1       0.77      0.70      0.73       162\n",
      "\n",
      "    accuracy                           1.00     93987\n",
      "   macro avg       0.88      0.85      0.87     93987\n",
      "weighted avg       1.00      1.00      1.00     93987\n",
      "\n"
     ]
    }
   ],
   "source": [
    "print(classification_report(y_test, ada_pred))"
   ]
  },
  {
   "cell_type": "markdown",
   "id": "ff3cf744",
   "metadata": {
    "papermill": {
     "duration": 0.01995,
     "end_time": "2023-05-19T08:28:47.504770",
     "exception": false,
     "start_time": "2023-05-19T08:28:47.484820",
     "status": "completed"
    },
    "tags": []
   },
   "source": [
    "Turns out the `AdaboostClassifier` didn't perform very well in this particular case. We probably could improve the model's performance by tuning and playing around with the parameters, but `RandomForestClassifier` seems to be the better choice here."
   ]
  },
  {
   "cell_type": "markdown",
   "id": "2808f09f",
   "metadata": {
    "papermill": {
     "duration": 0.019314,
     "end_time": "2023-05-19T08:28:47.543987",
     "exception": false,
     "start_time": "2023-05-19T08:28:47.524673",
     "status": "completed"
    },
    "tags": []
   },
   "source": [
    "# Gradient Boosting\n",
    "\n",
    "We should also try the `GradientBoostingClassifier`, which is popular algorithm that has proven to be very successful in many tasks. "
   ]
  },
  {
   "cell_type": "code",
   "execution_count": 25,
   "id": "4c52966f",
   "metadata": {
    "execution": {
     "iopub.execute_input": "2023-05-19T08:28:47.583720Z",
     "iopub.status.busy": "2023-05-19T08:28:47.583266Z",
     "iopub.status.idle": "2023-05-19T08:33:33.785450Z",
     "shell.execute_reply": "2023-05-19T08:33:33.784465Z"
    },
    "papermill": {
     "duration": 286.242436,
     "end_time": "2023-05-19T08:33:33.805393",
     "exception": false,
     "start_time": "2023-05-19T08:28:47.562957",
     "status": "completed"
    },
    "tags": []
   },
   "outputs": [
    {
     "data": {
      "image/png": "[encoded data removed]",
      "text/plain": [
       "<Figure size 640x480 with 2 Axes>"
      ]
     },
     "metadata": {},
     "output_type": "display_data"
    }
   ],
   "source": [
    "#build gradient boosting\n",
    "gb = GradientBoostingClassifier(random_state=42)\n",
    "\n",
    "gb.fit(X_train, y_train)\n",
    "gb_pred = gb.predict(X_test)\n",
    "\n",
    "#build confusion matrix\n",
    "gb_cm = confusion_matrix(y_test, gb_pred)\n",
    "\n",
    "ax= plt.subplot()\n",
    "sns.heatmap(gb_cm, annot=True, fmt='g', ax=ax);\n",
    "\n",
    "ax.set_xlabel('Predicted labels');ax.set_ylabel('True labels'); \n",
    "ax.set_title('Confusion Matrix'); \n",
    "ax.xaxis.set_ticklabels(['Not Fraud', 'Fraud']); ax.yaxis.set_ticklabels(['Not Fraud', 'Fraud']);"
   ]
  },
  {
   "cell_type": "code",
   "execution_count": 26,
   "id": "f0aa1aa6",
   "metadata": {
    "execution": {
     "iopub.execute_input": "2023-05-19T08:33:33.846103Z",
     "iopub.status.busy": "2023-05-19T08:33:33.845136Z",
     "iopub.status.idle": "2023-05-19T08:33:33.919479Z",
     "shell.execute_reply": "2023-05-19T08:33:33.918495Z"
    },
    "papermill": {
     "duration": 0.096851,
     "end_time": "2023-05-19T08:33:33.921718",
     "exception": false,
     "start_time": "2023-05-19T08:33:33.824867",
     "status": "completed"
    },
    "tags": []
   },
   "outputs": [
    {
     "name": "stdout",
     "output_type": "stream",
     "text": [
      "              precision    recall  f1-score   support\n",
      "\n",
      "           0       1.00      1.00      1.00     93825\n",
      "           1       0.74      0.16      0.26       162\n",
      "\n",
      "    accuracy                           1.00     93987\n",
      "   macro avg       0.87      0.58      0.63     93987\n",
      "weighted avg       1.00      1.00      1.00     93987\n",
      "\n"
     ]
    }
   ],
   "source": [
    "print(classification_report(y_test, gb_pred))"
   ]
  },
  {
   "cell_type": "markdown",
   "id": "8557ebdf",
   "metadata": {
    "papermill": {
     "duration": 0.020183,
     "end_time": "2023-05-19T08:33:33.961559",
     "exception": false,
     "start_time": "2023-05-19T08:33:33.941376",
     "status": "completed"
    },
    "tags": []
   },
   "source": [
    "Wow! `GradientBoosting` actually performed horribly! We can see that the F-1 score is super low. In fact, if we look at the confusion matrix, we see that the model is basically predicting all samples as *Not Fraud*.  But again, we haven't done any hyperparameter tunings yet, so that could be the issue here. Nonetheless, let's just resort to using the `RandomForestClassifier`."
   ]
  },
  {
   "cell_type": "markdown",
   "id": "74a398d6",
   "metadata": {
    "papermill": {
     "duration": 0.019818,
     "end_time": "2023-05-19T08:33:34.001576",
     "exception": false,
     "start_time": "2023-05-19T08:33:33.981758",
     "status": "completed"
    },
    "tags": []
   },
   "source": [
    "# Sampling\n",
    "\n",
    "Okay, now that we have a basic understanding of which algorithms tends to work better (without hyperparameter tuning), let's pull back to discuss about **sampling**. When we deal with imbalanced datasets, sampling could be the difference maker between a good model and an excellent model. The three most popular sampling methods are **oversampling**, **undersampling** and **SMOTE**. We will demonstrate and try all three to compare which method works out the best in our task.\n",
    "\n",
    "One important thing to note is that when we resample our data, **we should only resample the training data and not the testing data**. Build your model using the resampled data and then test it with the untouched testing data. Although this note shouldn't come as a surprise, many people accidentally commit this mistake.\n",
    "\n",
    "As we can see below, we start off with 190490 counts of class `0` and 330 counts of class `1` in our training data."
   ]
  },
  {
   "cell_type": "code",
   "execution_count": 27,
   "id": "b64b12b2",
   "metadata": {
    "execution": {
     "iopub.execute_input": "2023-05-19T08:33:34.043446Z",
     "iopub.status.busy": "2023-05-19T08:33:34.043069Z",
     "iopub.status.idle": "2023-05-19T08:33:34.052023Z",
     "shell.execute_reply": "2023-05-19T08:33:34.050917Z"
    },
    "papermill": {
     "duration": 0.032535,
     "end_time": "2023-05-19T08:33:34.054267",
     "exception": false,
     "start_time": "2023-05-19T08:33:34.021732",
     "status": "completed"
    },
    "tags": []
   },
   "outputs": [
    {
     "data": {
      "text/plain": [
       "Class\n",
       "0    190490\n",
       "1       330\n",
       "Name: count, dtype: int64"
      ]
     },
     "execution_count": 27,
     "metadata": {},
     "output_type": "execute_result"
    }
   ],
   "source": [
    "#double check the counts of 0 and 1s\n",
    "y_train.value_counts()"
   ]
  },
  {
   "cell_type": "markdown",
   "id": "b53c88fc",
   "metadata": {
    "papermill": {
     "duration": 0.019204,
     "end_time": "2023-05-19T08:33:34.093092",
     "exception": false,
     "start_time": "2023-05-19T08:33:34.073888",
     "status": "completed"
    },
    "tags": []
   },
   "source": [
    "We glue the X and y variables back together to reconstruct our dataframe and seperate it again by the `class`."
   ]
  },
  {
   "cell_type": "code",
   "execution_count": 28,
   "id": "3990dcbb",
   "metadata": {
    "execution": {
     "iopub.execute_input": "2023-05-19T08:33:34.134032Z",
     "iopub.status.busy": "2023-05-19T08:33:34.133455Z",
     "iopub.status.idle": "2023-05-19T08:33:34.180353Z",
     "shell.execute_reply": "2023-05-19T08:33:34.178869Z"
    },
    "papermill": {
     "duration": 0.07047,
     "end_time": "2023-05-19T08:33:34.183068",
     "exception": false,
     "start_time": "2023-05-19T08:33:34.112598",
     "status": "completed"
    },
    "tags": []
   },
   "outputs": [],
   "source": [
    "# concatenate our training data back together\n",
    "X_concat = pd.concat([X_train, y_train], axis=1)\n",
    "\n",
    "# separate minority and majority classes\n",
    "not_fraud = X_concat[X_concat.Class==0]\n",
    "fraud = X_concat[X_concat.Class==1]"
   ]
  },
  {
   "cell_type": "markdown",
   "id": "130ab8ef",
   "metadata": {
    "papermill": {
     "duration": 0.019338,
     "end_time": "2023-05-19T08:33:34.222299",
     "exception": false,
     "start_time": "2023-05-19T08:33:34.202961",
     "status": "completed"
    },
    "tags": []
   },
   "source": [
    "## Oversampling\n",
    "\n",
    "Now our data is ready to be resampled. We'll start by demonstrating **oversampling**. In essence, oversampling just refers to the the resampling of the minority class until its number of instances matches that of the majority class. This can easily be done with the `resample` function from `sklearn.utils`. Below, we can see that both classes now have 190490 samples. "
   ]
  },
  {
   "cell_type": "code",
   "execution_count": 29,
   "id": "e81bb0d0",
   "metadata": {
    "execution": {
     "iopub.execute_input": "2023-05-19T08:33:34.263536Z",
     "iopub.status.busy": "2023-05-19T08:33:34.263148Z",
     "iopub.status.idle": "2023-05-19T08:33:34.350245Z",
     "shell.execute_reply": "2023-05-19T08:33:34.349293Z"
    },
    "papermill": {
     "duration": 0.110207,
     "end_time": "2023-05-19T08:33:34.352135",
     "exception": false,
     "start_time": "2023-05-19T08:33:34.241928",
     "status": "completed"
    },
    "tags": []
   },
   "outputs": [
    {
     "data": {
      "text/plain": [
       "Class\n",
       "0    190490\n",
       "1    190490\n",
       "Name: count, dtype: int64"
      ]
     },
     "execution_count": 29,
     "metadata": {},
     "output_type": "execute_result"
    }
   ],
   "source": [
    "# oversample fraud transaction (minority)\n",
    "fraud_oversampled = resample(fraud, replace=True, n_samples=len(not_fraud), random_state=42) # with replacement\n",
    "\n",
    "# combine majority and oversampled minority\n",
    "oversampled = pd.concat([not_fraud, fraud_oversampled])\n",
    "\n",
    "#split X and y\n",
    "y_train_oversampled = oversampled.Class\n",
    "X_train_oversampled = oversampled.drop('Class', axis=1)\n",
    "\n",
    "# check new class counts\n",
    "oversampled.Class.value_counts()"
   ]
  },
  {
   "cell_type": "markdown",
   "id": "a255fa74",
   "metadata": {
    "papermill": {
     "duration": 0.020287,
     "end_time": "2023-05-19T08:33:34.392608",
     "exception": false,
     "start_time": "2023-05-19T08:33:34.372321",
     "status": "completed"
    },
    "tags": []
   },
   "source": [
    "## Undersampling\n",
    "\n",
    "On the contrary, **undersampling** refers to the resampling of the majority class until its instances matches that of the minority class. Its implementation is the same as oversampling and we can see that both classes only contain 330 samples. "
   ]
  },
  {
   "cell_type": "code",
   "execution_count": 30,
   "id": "9a28f547",
   "metadata": {
    "execution": {
     "iopub.execute_input": "2023-05-19T08:33:34.434042Z",
     "iopub.status.busy": "2023-05-19T08:33:34.433710Z",
     "iopub.status.idle": "2023-05-19T08:33:34.448902Z",
     "shell.execute_reply": "2023-05-19T08:33:34.447925Z"
    },
    "papermill": {
     "duration": 0.038209,
     "end_time": "2023-05-19T08:33:34.450823",
     "exception": false,
     "start_time": "2023-05-19T08:33:34.412614",
     "status": "completed"
    },
    "tags": []
   },
   "outputs": [
    {
     "data": {
      "text/plain": [
       "Class\n",
       "0    330\n",
       "1    330\n",
       "Name: count, dtype: int64"
      ]
     },
     "execution_count": 30,
     "metadata": {},
     "output_type": "execute_result"
    }
   ],
   "source": [
    "# undersample not fraud (majority)\n",
    "not_fraud_undersampled = resample(not_fraud, replace=False, n_samples=len(fraud), random_state=42) #without replacement\n",
    "\n",
    "# combine undersampled majority and minority\n",
    "undersampled = pd.concat([not_fraud_undersampled, fraud])\n",
    "\n",
    "#split X and y\n",
    "y_train_undersampled = undersampled.Class\n",
    "X_train_undersampled = undersampled.drop('Class', axis=1)\n",
    "\n",
    "# check new class counts\n",
    "undersampled.Class.value_counts()"
   ]
  },
  {
   "cell_type": "markdown",
   "id": "07a50dae",
   "metadata": {
    "papermill": {
     "duration": 0.019691,
     "end_time": "2023-05-19T08:33:34.490327",
     "exception": false,
     "start_time": "2023-05-19T08:33:34.470636",
     "status": "completed"
    },
    "tags": []
   },
   "source": [
    "Oversampling and undersampling are both very simple and straightforward methods to deal with imbalanced datasets. But they do have their own set of potential problems.\n",
    "\n",
    "### Problems with Oversampling\n",
    "The problem with oversampling is that it can lead to overfitting, where the model learns the noise and outliers in the minority class instead of the underlying patterns. This could lead to poor generalization and performance on unseen data.\n",
    "\n",
    "### Problems with Undersampling\n",
    "The problem with undersampling is that it can result in loss of information. Many instances from the majority class are discarded from the dataset and that could include essential underlying patterns. "
   ]
  },
  {
   "cell_type": "markdown",
   "id": "49bc2df8",
   "metadata": {
    "papermill": {
     "duration": 0.019597,
     "end_time": "2023-05-19T08:33:34.529936",
     "exception": false,
     "start_time": "2023-05-19T08:33:34.510339",
     "status": "completed"
    },
    "tags": []
   },
   "source": [
    "## SMOTE\n",
    "\n",
    "The problems with oversampling and undersampling is the reason many resort to using SMOTE instead. SMOTE stands for Synthetic Minority Oversampling TEchnique. We briefly mentioned this method earlier and it basically generates new, original samples of the minority class based on its features (X variables). The implementation is super simple. We can just feed in our X and y training data into the `SMOTE` function from `imblearn.over_sampling`."
   ]
  },
  {
   "cell_type": "code",
   "execution_count": 31,
   "id": "13b2f646",
   "metadata": {
    "execution": {
     "iopub.execute_input": "2023-05-19T08:33:34.572046Z",
     "iopub.status.busy": "2023-05-19T08:33:34.571392Z",
     "iopub.status.idle": "2023-05-19T08:33:34.800110Z",
     "shell.execute_reply": "2023-05-19T08:33:34.799105Z"
    },
    "papermill": {
     "duration": 0.252086,
     "end_time": "2023-05-19T08:33:34.802006",
     "exception": false,
     "start_time": "2023-05-19T08:33:34.549920",
     "status": "completed"
    },
    "tags": []
   },
   "outputs": [
    {
     "data": {
      "text/plain": [
       "Class\n",
       "0    190490\n",
       "1    190490\n",
       "Name: count, dtype: int64"
      ]
     },
     "execution_count": 31,
     "metadata": {},
     "output_type": "execute_result"
    }
   ],
   "source": [
    "sm = SMOTE(random_state=42)\n",
    "\n",
    "X_train_sm, y_train_sm = sm.fit_resample(X_train, y_train)\n",
    "\n",
    "y_train_sm.value_counts()"
   ]
  },
  {
   "cell_type": "markdown",
   "id": "230eefd9",
   "metadata": {
    "papermill": {
     "duration": 0.01984,
     "end_time": "2023-05-19T08:33:34.841713",
     "exception": false,
     "start_time": "2023-05-19T08:33:34.821873",
     "status": "completed"
    },
    "tags": []
   },
   "source": [
    "Would you look at that! The minority class now has 190490 samples. SMOTE is really just another variation of oversampling. That being said, SMOTE, of course, would inherit some of problems with oversampling.\n",
    "\n",
    "### Problems with SMOTE\n",
    "1. **Overfitting**: SMOTE can generate synthetic samples that are too similar to the existing minority class samples, leading to overfitting.\n",
    "2. **Noise and Outliers**: SMOTE can also generate outliers or noisy synthetic samples, which could impact the model's performance.\n",
    "3. **Curse of Dimensionality**: SMOTE can struggle with high-dimensional data since it relies on the distance between instances to generate synthetic samples. In high-dimensional space, the distance between instances becomes less meaningful.\n",
    "4. **Extreme Imbalance**: SMOTE can be less effective when the imbalance gets too extreme. SMOTE may not be able to generate enough synthetic samples to balance the dataset."
   ]
  },
  {
   "cell_type": "markdown",
   "id": "e7ad2e60",
   "metadata": {
    "papermill": {
     "duration": 0.021007,
     "end_time": "2023-05-19T08:33:34.882838",
     "exception": false,
     "start_time": "2023-05-19T08:33:34.861831",
     "status": "completed"
    },
    "tags": []
   },
   "source": [
    "# RFM with Oversampling\n",
    "\n",
    "Awesome! Now that we've gone through the three sampling methods, let's apply each resample dataset to our `RandomForestClassifier` and see if it would lead to an improvment in performance. Let's start with oversampling."
   ]
  },
  {
   "cell_type": "code",
   "execution_count": 32,
   "id": "b34bd85c",
   "metadata": {
    "execution": {
     "iopub.execute_input": "2023-05-19T08:33:34.925148Z",
     "iopub.status.busy": "2023-05-19T08:33:34.924784Z",
     "iopub.status.idle": "2023-05-19T08:36:32.923616Z",
     "shell.execute_reply": "2023-05-19T08:36:32.921933Z"
    },
    "papermill": {
     "duration": 178.043236,
     "end_time": "2023-05-19T08:36:32.946825",
     "exception": false,
     "start_time": "2023-05-19T08:33:34.903589",
     "status": "completed"
    },
    "tags": []
   },
   "outputs": [
    {
     "data": {
      "image/png": "[encoded data removed]",
      "text/plain": [
       "<Figure size 640x480 with 2 Axes>"
      ]
     },
     "metadata": {},
     "output_type": "display_data"
    }
   ],
   "source": [
    "#RFM with oversampled data\n",
    "rfm_OS = RandomForestClassifier(random_state=42)\n",
    "\n",
    "rfm_OS.fit(X_train_oversampled, y_train_oversampled)\n",
    "rfm_OS_pred = rfm_OS.predict(X_test)\n",
    "\n",
    "#build confusion matrix\n",
    "rfm_OS_cm = confusion_matrix(y_test, rfm_OS_pred)\n",
    "\n",
    "ax= plt.subplot()\n",
    "sns.heatmap(rfm_OS_cm, annot=True, fmt='g', ax=ax); \n",
    "\n",
    "ax.set_xlabel('Predicted labels');ax.set_ylabel('True labels'); \n",
    "ax.set_title('Confusion Matrix'); \n",
    "ax.xaxis.set_ticklabels(['Not Fraud', 'Fraud']); ax.yaxis.set_ticklabels(['Not Fraud', 'Fraud']);"
   ]
  },
  {
   "cell_type": "code",
   "execution_count": 33,
   "id": "2e18517f",
   "metadata": {
    "execution": {
     "iopub.execute_input": "2023-05-19T08:36:32.991549Z",
     "iopub.status.busy": "2023-05-19T08:36:32.991171Z",
     "iopub.status.idle": "2023-05-19T08:36:33.068330Z",
     "shell.execute_reply": "2023-05-19T08:36:33.066364Z"
    },
    "papermill": {
     "duration": 0.10252,
     "end_time": "2023-05-19T08:36:33.070375",
     "exception": false,
     "start_time": "2023-05-19T08:36:32.967855",
     "status": "completed"
    },
    "tags": []
   },
   "outputs": [
    {
     "name": "stdout",
     "output_type": "stream",
     "text": [
      "              precision    recall  f1-score   support\n",
      "\n",
      "           0       1.00      1.00      1.00     93825\n",
      "           1       0.97      0.73      0.84       162\n",
      "\n",
      "    accuracy                           1.00     93987\n",
      "   macro avg       0.98      0.87      0.92     93987\n",
      "weighted avg       1.00      1.00      1.00     93987\n",
      "\n"
     ]
    }
   ],
   "source": [
    "print(classification_report(y_test, rfm_OS_pred))"
   ]
  },
  {
   "cell_type": "markdown",
   "id": "b82a9c8a",
   "metadata": {
    "papermill": {
     "duration": 0.020333,
     "end_time": "2023-05-19T08:36:33.111398",
     "exception": false,
     "start_time": "2023-05-19T08:36:33.091065",
     "status": "completed"
    },
    "tags": []
   },
   "source": [
    "The results indicate that training the `RandomForestClassifier` on the oversampled data does not exceed the performance of the initial model. This could be due to the problems we discussed about oversampling."
   ]
  },
  {
   "cell_type": "markdown",
   "id": "8e02a602",
   "metadata": {
    "papermill": {
     "duration": 0.020333,
     "end_time": "2023-05-19T08:36:33.152405",
     "exception": false,
     "start_time": "2023-05-19T08:36:33.132072",
     "status": "completed"
    },
    "tags": []
   },
   "source": [
    "# RFM with Undersampling\n",
    "\n",
    "What about undersampling? Let's take a look."
   ]
  },
  {
   "cell_type": "code",
   "execution_count": 34,
   "id": "1c666033",
   "metadata": {
    "execution": {
     "iopub.execute_input": "2023-05-19T08:36:33.196835Z",
     "iopub.status.busy": "2023-05-19T08:36:33.196440Z",
     "iopub.status.idle": "2023-05-19T08:36:34.338606Z",
     "shell.execute_reply": "2023-05-19T08:36:34.337460Z"
    },
    "papermill": {
     "duration": 1.167009,
     "end_time": "2023-05-19T08:36:34.340785",
     "exception": false,
     "start_time": "2023-05-19T08:36:33.173776",
     "status": "completed"
    },
    "tags": []
   },
   "outputs": [
    {
     "data": {
      "image/png": "[encoded data removed]",
      "text/plain": [
       "<Figure size 640x480 with 2 Axes>"
      ]
     },
     "metadata": {},
     "output_type": "display_data"
    }
   ],
   "source": [
    "#RFM with undersampled data\n",
    "rfm_US = RandomForestClassifier(random_state=42)\n",
    "\n",
    "rfm_US.fit(X_train_undersampled, y_train_undersampled)\n",
    "rfm_US_pred = rfm_US.predict(X_test)\n",
    "\n",
    "#build confusion matrix\n",
    "rfm_US_cm = confusion_matrix(y_test, rfm_US_pred)\n",
    "\n",
    "ax= plt.subplot()\n",
    "sns.heatmap(rfm_US_cm, annot=True, fmt='g', ax=ax);\n",
    "\n",
    "ax.set_xlabel('Predicted labels');ax.set_ylabel('True labels'); \n",
    "ax.set_title('Confusion Matrix'); \n",
    "ax.xaxis.set_ticklabels(['Not Fraud', 'Fraud']); ax.yaxis.set_ticklabels(['Not Fraud', 'Fraud']);"
   ]
  },
  {
   "cell_type": "code",
   "execution_count": 35,
   "id": "d0f48c2e",
   "metadata": {
    "execution": {
     "iopub.execute_input": "2023-05-19T08:36:34.385673Z",
     "iopub.status.busy": "2023-05-19T08:36:34.385310Z",
     "iopub.status.idle": "2023-05-19T08:36:34.467075Z",
     "shell.execute_reply": "2023-05-19T08:36:34.465390Z"
    },
    "papermill": {
     "duration": 0.106816,
     "end_time": "2023-05-19T08:36:34.469426",
     "exception": false,
     "start_time": "2023-05-19T08:36:34.362610",
     "status": "completed"
    },
    "tags": []
   },
   "outputs": [
    {
     "name": "stdout",
     "output_type": "stream",
     "text": [
      "              precision    recall  f1-score   support\n",
      "\n",
      "           0       1.00      0.97      0.99     93825\n",
      "           1       0.05      0.90      0.10       162\n",
      "\n",
      "    accuracy                           0.97     93987\n",
      "   macro avg       0.53      0.94      0.54     93987\n",
      "weighted avg       1.00      0.97      0.98     93987\n",
      "\n"
     ]
    }
   ],
   "source": [
    "print(classification_report(y_test, rfm_US_pred))"
   ]
  },
  {
   "cell_type": "markdown",
   "id": "d21bac86",
   "metadata": {
    "papermill": {
     "duration": 0.021522,
     "end_time": "2023-05-19T08:36:34.513172",
     "exception": false,
     "start_time": "2023-05-19T08:36:34.491650",
     "status": "completed"
    },
    "tags": []
   },
   "source": [
    "Oof! Undersampling seems to do even worse than oversampling. We can see that precision dropped to 0.05 in exchange for a relatively high recall at 0.90. This leads to a low f1-score. Although we were able to identify 90% of the fraud transactions, the predictions are not precise at all."
   ]
  },
  {
   "cell_type": "markdown",
   "id": "a5148d13",
   "metadata": {
    "papermill": {
     "duration": 0.022814,
     "end_time": "2023-05-19T08:36:34.559791",
     "exception": false,
     "start_time": "2023-05-19T08:36:34.536977",
     "status": "completed"
    },
    "tags": []
   },
   "source": [
    "# RFM with SMOTE\n",
    "\n",
    "Finally, we've arrived at our final resampling method, SMOTE. Will SMOTE bring the glory home?"
   ]
  },
  {
   "cell_type": "code",
   "execution_count": 36,
   "id": "6ba92423",
   "metadata": {
    "execution": {
     "iopub.execute_input": "2023-05-19T08:36:34.606431Z",
     "iopub.status.busy": "2023-05-19T08:36:34.605989Z",
     "iopub.status.idle": "2023-05-19T08:42:14.876536Z",
     "shell.execute_reply": "2023-05-19T08:42:14.874996Z"
    },
    "papermill": {
     "duration": 340.316535,
     "end_time": "2023-05-19T08:42:14.899145",
     "exception": false,
     "start_time": "2023-05-19T08:36:34.582610",
     "status": "completed"
    },
    "tags": []
   },
   "outputs": [
    {
     "data": {
      "image/png": "[encoded data removed]",
      "text/plain": [
       "<Figure size 640x480 with 2 Axes>"
      ]
     },
     "metadata": {},
     "output_type": "display_data"
    }
   ],
   "source": [
    "#RFM with SMOTE\n",
    "rfm_sm = RandomForestClassifier(random_state=42)\n",
    "\n",
    "rfm_sm.fit(X_train_sm, y_train_sm)\n",
    "rfm_sm_pred = rfm_sm.predict(X_test)\n",
    "\n",
    "#build confusion matrix\n",
    "rfm_sm_cm = confusion_matrix(y_test, rfm_sm_pred)\n",
    "\n",
    "ax= plt.subplot()\n",
    "sns.heatmap(rfm_sm_cm, annot=True, fmt='g', ax=ax);\n",
    "\n",
    "ax.set_xlabel('Predicted labels');ax.set_ylabel('True labels'); \n",
    "ax.set_title('Confusion Matrix'); \n",
    "ax.xaxis.set_ticklabels(['Not Fraud', 'Fraud']); ax.yaxis.set_ticklabels(['Not Fraud', 'Fraud']);"
   ]
  },
  {
   "cell_type": "code",
   "execution_count": 37,
   "id": "5616031a",
   "metadata": {
    "execution": {
     "iopub.execute_input": "2023-05-19T08:42:14.944505Z",
     "iopub.status.busy": "2023-05-19T08:42:14.944155Z",
     "iopub.status.idle": "2023-05-19T08:42:15.017509Z",
     "shell.execute_reply": "2023-05-19T08:42:15.016458Z"
    },
    "papermill": {
     "duration": 0.098552,
     "end_time": "2023-05-19T08:42:15.019442",
     "exception": false,
     "start_time": "2023-05-19T08:42:14.920890",
     "status": "completed"
    },
    "tags": []
   },
   "outputs": [
    {
     "name": "stdout",
     "output_type": "stream",
     "text": [
      "              precision    recall  f1-score   support\n",
      "\n",
      "           0       1.00      1.00      1.00     93825\n",
      "           1       0.89      0.80      0.84       162\n",
      "\n",
      "    accuracy                           1.00     93987\n",
      "   macro avg       0.95      0.90      0.92     93987\n",
      "weighted avg       1.00      1.00      1.00     93987\n",
      "\n"
     ]
    }
   ],
   "source": [
    "print(classification_report(y_test, rfm_sm_pred))"
   ]
  },
  {
   "cell_type": "markdown",
   "id": "99ab501a",
   "metadata": {
    "papermill": {
     "duration": 0.020645,
     "end_time": "2023-05-19T08:42:15.061395",
     "exception": false,
     "start_time": "2023-05-19T08:42:15.040750",
     "status": "completed"
    },
    "tags": []
   },
   "source": [
    "Hey, would you look at that! The results of using RFM with SMOTE is also pretty good. Although the F-1 score was not as high as the initial RF model (0.86), the recall is higher. This meant we were able to identify slightly more fraud transactions. In turn, the precision is still within acceptable range at 0.89, so not too bad!"
   ]
  },
  {
   "cell_type": "markdown",
   "id": "8aacc2a7",
   "metadata": {
    "papermill": {
     "duration": 0.020762,
     "end_time": "2023-05-19T08:42:15.103034",
     "exception": false,
     "start_time": "2023-05-19T08:42:15.082272",
     "status": "completed"
    },
    "tags": []
   },
   "source": [
    "# Hyperparameter Tuning\n",
    "\n",
    "## `class_weight` for `RandomForestClassifier`\n",
    "\n",
    "Finally, I want to bring your attention to a hyperparameter available in the `RandomForestClassifier`, `class_weight`, which could be helpful in dealing with imbalanced datasets. By default, the `RandomForestClassifer` assigns equal weight to each class (`class_weight=None`), which can result in poor performance in the minority class. Therefore, we could actually set `class_weight=\"balanced\"` to adjust the class weights based on the inverse frequency of each class in the training set. A higher weight being assigned to the minority class means that the recall should improve (at the expense of the precision of course). You could even assign your own custom weights to each class by using a dictionary (eg. `class_weight={0:1, 1:5}` means that weight 1 is assigned to class 0 and weight 5 is assigned to class 1). Let's try this out!\n"
   ]
  },
  {
   "cell_type": "code",
   "execution_count": 38,
   "id": "84cbee55",
   "metadata": {
    "execution": {
     "iopub.execute_input": "2023-05-19T08:42:15.146849Z",
     "iopub.status.busy": "2023-05-19T08:42:15.146497Z",
     "iopub.status.idle": "2023-05-19T08:43:53.922084Z",
     "shell.execute_reply": "2023-05-19T08:43:53.920920Z"
    },
    "papermill": {
     "duration": 98.820612,
     "end_time": "2023-05-19T08:43:53.944738",
     "exception": false,
     "start_time": "2023-05-19T08:42:15.124126",
     "status": "completed"
    },
    "tags": []
   },
   "outputs": [
    {
     "data": {
      "image/png": "[encoded data removed]",
      "text/plain": [
       "<Figure size 640x480 with 2 Axes>"
      ]
     },
     "metadata": {},
     "output_type": "display_data"
    }
   ],
   "source": [
    "#RFM with SMOTE and balanced class_weight\n",
    "rfm_sm_classWeightBalanced = RandomForestClassifier(class_weight = \"balanced\", random_state=42)\n",
    "\n",
    "#feed in the training data without any resampling\n",
    "rfm_sm_classWeightBalanced.fit(X_train, y_train)\n",
    "rfm_sm_classWeightBalanced_pred = rfm_sm_classWeightBalanced.predict(X_test)\n",
    "\n",
    "#build confusion matrix\n",
    "rfm_sm_classWeightBalanced_cm = confusion_matrix(y_test, rfm_sm_classWeightBalanced_pred)\n",
    "\n",
    "ax= plt.subplot()\n",
    "sns.heatmap(rfm_sm_classWeightBalanced_cm, annot=True, fmt='g', ax=ax);\n",
    "\n",
    "ax.set_xlabel('Predicted labels');ax.set_ylabel('True labels'); \n",
    "ax.set_title('Confusion Matrix'); \n",
    "ax.xaxis.set_ticklabels(['Not Fraud', 'Fraud']); ax.yaxis.set_ticklabels(['Not Fraud', 'Fraud']);"
   ]
  },
  {
   "cell_type": "code",
   "execution_count": 39,
   "id": "9c3e6487",
   "metadata": {
    "execution": {
     "iopub.execute_input": "2023-05-19T08:43:53.990236Z",
     "iopub.status.busy": "2023-05-19T08:43:53.989545Z",
     "iopub.status.idle": "2023-05-19T08:43:54.064105Z",
     "shell.execute_reply": "2023-05-19T08:43:54.063445Z"
    },
    "papermill": {
     "duration": 0.099369,
     "end_time": "2023-05-19T08:43:54.066044",
     "exception": false,
     "start_time": "2023-05-19T08:43:53.966675",
     "status": "completed"
    },
    "tags": []
   },
   "outputs": [
    {
     "name": "stdout",
     "output_type": "stream",
     "text": [
      "              precision    recall  f1-score   support\n",
      "\n",
      "           0       1.00      1.00      1.00     93825\n",
      "           1       0.97      0.72      0.82       162\n",
      "\n",
      "    accuracy                           1.00     93987\n",
      "   macro avg       0.98      0.86      0.91     93987\n",
      "weighted avg       1.00      1.00      1.00     93987\n",
      "\n"
     ]
    }
   ],
   "source": [
    "print(classification_report(y_test, rfm_sm_classWeightBalanced_pred))"
   ]
  },
  {
   "cell_type": "markdown",
   "id": "6a438172",
   "metadata": {
    "papermill": {
     "duration": 0.021657,
     "end_time": "2023-05-19T08:43:54.110091",
     "exception": false,
     "start_time": "2023-05-19T08:43:54.088434",
     "status": "completed"
    },
    "tags": []
   },
   "source": [
    "Oof! Theoretically, the recall for class 1 should improve by adjusting the `class_weight`, but it didn't. This could be due to many factors including insufficient data, model complexity, overfitting, etc. We may have to experiment this setting with other hyperparameters. But I'm an impatient man and I just can't stand waiting in front of my computer for `GridSearchCV` to find the optimal parameters. If you're reading this now, maybe you can try running `GridSearchCV`! Feel free to let me know which set of hyperparameters worked best for you! You'll make me a happy happy man <3."
   ]
  },
  {
   "cell_type": "markdown",
   "id": "55f280f5",
   "metadata": {
    "papermill": {
     "duration": 0.022064,
     "end_time": "2023-05-19T08:43:54.154005",
     "exception": false,
     "start_time": "2023-05-19T08:43:54.131941",
     "status": "completed"
    },
    "tags": []
   },
   "source": [
    "# Model Comparison\n",
    "\n",
    "Finally, let's put everything together to compare the different statistics of the five `RandomForestClassifiers` that we built."
   ]
  },
  {
   "cell_type": "code",
   "execution_count": 42,
   "id": "733b0f34",
   "metadata": {
    "execution": {
     "iopub.execute_input": "2023-05-19T08:43:54.200946Z",
     "iopub.status.busy": "2023-05-19T08:43:54.200311Z",
     "iopub.status.idle": "2023-05-19T08:43:54.453654Z",
     "shell.execute_reply": "2023-05-19T08:43:54.452377Z"
    },
    "papermill": {
     "duration": 0.279511,
     "end_time": "2023-05-19T08:43:54.455949",
     "exception": false,
     "start_time": "2023-05-19T08:43:54.176438",
     "status": "completed"
    },
    "tags": []
   },
   "outputs": [
    {
     "name": "stderr",
     "output_type": "stream",
     "text": [
      "/var/folders/_z/fqc2y1zs5nxfts7kcfj9y20w0000gn/T/ipykernel_44524/3308876365.py:16: FutureWarning: The behavior of DataFrame concatenation with empty or all-NA entries is deprecated. In a future version, this will no longer exclude empty or all-NA columns when determining the result dtypes. To retain the old behavior, exclude the relevant entries before the concat operation.\n",
      "  df = pd.concat([df, pd.DataFrame([{'model': key, 'precision':precision, 'recall':recall, 'f1_score':f1_score}])], ignore_index=True)\n"
     ]
    },
    {
     "data": {
      "text/html": [
       "<div>\n",
       "<style scoped>\n",
       "    .dataframe tbody tr th:only-of-type {\n",
       "        vertical-align: middle;\n",
       "    }\n",
       "\n",
       "    .dataframe tbody tr th {\n",
       "        vertical-align: top;\n",
       "    }\n",
       "\n",
       "    .dataframe thead th {\n",
       "        text-align: right;\n",
       "    }\n",
       "</style>\n",
       "<table border=\"1\" class=\"dataframe\">\n",
       "  <thead>\n",
       "    <tr style=\"text-align: right;\">\n",
       "      <th></th>\n",
       "      <th>precision</th>\n",
       "      <th>recall</th>\n",
       "      <th>f1_score</th>\n",
       "    </tr>\n",
       "    <tr>\n",
       "      <th>model</th>\n",
       "      <th></th>\n",
       "      <th></th>\n",
       "      <th></th>\n",
       "    </tr>\n",
       "  </thead>\n",
       "  <tbody>\n",
       "    <tr>\n",
       "      <th>RandomForest</th>\n",
       "      <td>0.954545</td>\n",
       "      <td>0.777778</td>\n",
       "      <td>0.857143</td>\n",
       "    </tr>\n",
       "    <tr>\n",
       "      <th>RandomForest OS</th>\n",
       "      <td>0.967480</td>\n",
       "      <td>0.734568</td>\n",
       "      <td>0.835088</td>\n",
       "    </tr>\n",
       "    <tr>\n",
       "      <th>RandomForest US</th>\n",
       "      <td>0.052068</td>\n",
       "      <td>0.901235</td>\n",
       "      <td>0.098449</td>\n",
       "    </tr>\n",
       "    <tr>\n",
       "      <th>RandomForest SMOTE</th>\n",
       "      <td>0.890411</td>\n",
       "      <td>0.802469</td>\n",
       "      <td>0.844156</td>\n",
       "    </tr>\n",
       "    <tr>\n",
       "      <th>RandomForest Balanced class_weight</th>\n",
       "      <td>0.966667</td>\n",
       "      <td>0.716049</td>\n",
       "      <td>0.822695</td>\n",
       "    </tr>\n",
       "  </tbody>\n",
       "</table>\n",
       "</div>"
      ],
      "text/plain": [
       "                                    precision    recall  f1_score\n",
       "model                                                            \n",
       "RandomForest                         0.954545  0.777778  0.857143\n",
       "RandomForest OS                      0.967480  0.734568  0.835088\n",
       "RandomForest US                      0.052068  0.901235  0.098449\n",
       "RandomForest SMOTE                   0.890411  0.802469  0.844156\n",
       "RandomForest Balanced class_weight   0.966667  0.716049  0.822695"
      ]
     },
     "execution_count": 42,
     "metadata": {},
     "output_type": "execute_result"
    }
   ],
   "source": [
    "#model dictionary\n",
    "predicted_values = {\"RandomForest\": rfm_pred, \n",
    "                    \"RandomForest OS\": rfm_OS_pred, \n",
    "                    \"RandomForest US\": rfm_US_pred, \n",
    "                    \"RandomForest SMOTE\": rfm_sm_pred,\n",
    "                    \"RandomForest Balanced class_weight\": rfm_sm_classWeightBalanced_pred}\n",
    "\n",
    "#create df\n",
    "df = pd.DataFrame(columns=['model', 'precision', 'recall', 'f1_score'])\n",
    "\n",
    "#plug precision recall and f1score into the dataframe for each model\n",
    "for key, value in predicted_values.items():\n",
    "    precision = precision_recall_fscore_support(y_test, value, average=None)[0][1]\n",
    "    recall = precision_recall_fscore_support(y_test, value, average=None)[1][1]\n",
    "    f1_score = precision_recall_fscore_support(y_test, value, average=None)[2][1]\n",
    "    df = pd.concat([df, pd.DataFrame([{'model': key, 'precision':precision, 'recall':recall, 'f1_score':f1_score}])], ignore_index=True)\n",
    "\n",
    "df = df.set_index('model')\n",
    "df.head()"
   ]
  },
  {
   "cell_type": "markdown",
   "id": "f2cd474b",
   "metadata": {
    "papermill": {
     "duration": 0.022978,
     "end_time": "2023-05-19T08:43:54.502223",
     "exception": false,
     "start_time": "2023-05-19T08:43:54.479245",
     "status": "completed"
    },
    "tags": []
   },
   "source": [
    "Again, we can see that the f1_score is the highest for the initial `RandomForestClassifier` model (without any treatments to the imbalanced dataset). This model, however, has a relatively higher precision than its recall. In many cases of imbalanced dataset (like this with fraud detection), we should be willing to sacrifice some precision for better recall. Therefore, *RandomForest with SMOTE* also seems like a pretty good choice. *RandomForest US* would be way too extreme as it sacrificed way too much precision for a little increase in recall."
   ]
  },
  {
   "cell_type": "markdown",
   "id": "4efc8143",
   "metadata": {
    "papermill": {
     "duration": 0.02269,
     "end_time": "2023-05-19T08:43:54.547385",
     "exception": false,
     "start_time": "2023-05-19T08:43:54.524695",
     "status": "completed"
    },
    "tags": []
   },
   "source": [
    "# ROC and AUC\n",
    "\n",
    "Aside from recall, precision and *F1_score*, other metrics we often look at are the **ROC** (**Receiver Operating Characteristic**) and **AUC** (**Area under the ROC Curve**). The ROC curve maps out the relationship between **True Positive Rate** (**TPR**) and **False Positive Rate** (**FPR**). Let refresh our memory real quick.\n",
    "\n",
    "* **True Positive Rate (sensitivity)**: Out of all fraud cases, the amount that is classified as fraud\n",
    "* **False Positive Rate (1-specificity)**: Out of all non-fraud cases, the amount that is classified as fraud\n",
    "\n",
    "From the definition of the two, it should be quite clear that we want to aim for a higher TPR and a lower FPR. But at the same time, a higher TPR would typically also lead to a higher FPR, so we have to strive for a balance. Let's plot out the ROC curve for all five our models."
   ]
  },
  {
   "cell_type": "code",
   "execution_count": 43,
   "id": "54d2ce47",
   "metadata": {
    "execution": {
     "iopub.execute_input": "2023-05-19T08:43:54.593742Z",
     "iopub.status.busy": "2023-05-19T08:43:54.593336Z",
     "iopub.status.idle": "2023-05-19T08:43:59.028469Z",
     "shell.execute_reply": "2023-05-19T08:43:59.027202Z"
    },
    "papermill": {
     "duration": 4.461639,
     "end_time": "2023-05-19T08:43:59.030925",
     "exception": false,
     "start_time": "2023-05-19T08:43:54.569286",
     "status": "completed"
    },
    "tags": []
   },
   "outputs": [
    {
     "data": {
      "image/png": "[encoded data removed]",
      "text/plain": [
       "<Figure size 1000x1000 with 1 Axes>"
      ]
     },
     "metadata": {},
     "output_type": "display_data"
    }
   ],
   "source": [
    "#change figure size\n",
    "plt.figure(figsize=(10, 10))\n",
    "\n",
    "#Initial RFM\n",
    "rfm_probas = rfm.predict_proba(X_test)[:,1]\n",
    "fpr, tpr, threshold = roc_curve(y_test, rfm_probas)\n",
    "roc_auc = auc(fpr, tpr)\n",
    "plt.plot(fpr, tpr, 'purple', linewidth=3, label = 'Initial AUC = %0.4f' % roc_auc)\n",
    "\n",
    "#RFM Oversampled\n",
    "rfm_OS_probas = rfm_OS.predict_proba(X_test)[:,1]\n",
    "fpr, tpr, threshold = roc_curve(y_test, rfm_OS_probas)\n",
    "roc_auc = auc(fpr, tpr)\n",
    "plt.plot(fpr, tpr, 'r', linewidth=3, label = 'OS AUC = %0.4f' % roc_auc)\n",
    "\n",
    "#RFM Undersampled\n",
    "rfm_US_probas = rfm_US.predict_proba(X_test)[:,1]\n",
    "fpr, tpr, threshold = roc_curve(y_test, rfm_US_probas)\n",
    "roc_auc = auc(fpr, tpr)\n",
    "plt.plot(fpr, tpr, 'g', linewidth=3, label = 'US AUC = %0.4f' % roc_auc)\n",
    "\n",
    "# RFM SMOTE\n",
    "rfm_sm_probas = rfm_sm.predict_proba(X_test)[:,1]\n",
    "fpr, tpr, threshold = roc_curve(y_test, rfm_sm_probas)\n",
    "roc_auc = auc(fpr, tpr)\n",
    "plt.plot(fpr, tpr, 'b', linewidth=3, label = 'SMOTE AUC = %0.4f' % roc_auc)\n",
    "\n",
    "#RFM with balanced class_weight \n",
    "rfm_sm_classWeightBalanced_probas = rfm_sm_classWeightBalanced.predict_proba(X_test)[:,1]\n",
    "fpr, tpr, threshold = roc_curve(y_test, rfm_sm_classWeightBalanced_probas)\n",
    "roc_auc = auc(fpr, tpr)\n",
    "plt.plot(fpr, tpr, 'orange', linewidth=3, label = 'Balanced AUC = %0.4f' % roc_auc)\n",
    "\n",
    "#plot horizontal line at y=0.9 and y=0.99\n",
    "plt.axhline(y=0.9, color = 'black', linestyle='dashed', linewidth=3)\n",
    "plt.axhline(y=0.99, color = 'black', linestyle='dashed', linewidth=3)\n",
    "\n",
    "plt.title('RFM Receiver Operating Characteristic')\n",
    "plt.legend(loc = 'lower right')\n",
    "plt.plot([0, 1], [0, 1],'r--')\n",
    "plt.xlim(-0.01,1)\n",
    "plt.ylim(0,1.01)\n",
    "plt.ylabel('True Positive Rate')\n",
    "plt.xlabel('False Positive Rate')\n",
    "plt.show()"
   ]
  },
  {
   "attachments": {
    "f08cbb2b-bcc0-44b8-be0d-f934fce3fd76.png": {
     "image/png": "[encoded data removed]"
    }
   },
   "cell_type": "markdown",
   "id": "519273a3",
   "metadata": {
    "papermill": {
     "duration": 0.023852,
     "end_time": "2023-05-19T08:43:59.077948",
     "exception": false,
     "start_time": "2023-05-19T08:43:59.054096",
     "status": "completed"
    },
    "tags": []
   },
   "source": [
    "From the ROC curve, it becomes easy to visualize the relationship between TPR and FPR. Now, we have to ask ourselves the question \"What is the minimum TPR that we're willing to accept?\". We can see that if we can accept a TPR of 0.9 (90% of all fraud captured), then *RF with SMOTE* (blue line) may be the best model because its FPR was the lowest out of all when its TPR reached 0.9 (bottom dashed horizontal line). But if we want to achieve a TPR of 0.99 (99% of all fraud captured), then *RF with Undersampling* is the best (top dashed horizontal line). \n",
    "\n",
    "A metric that generalizes the overall performance is the AUC. Out of all five models, *RF with Undersampling* stood out with the best AUC, so some may argue that this is the best model. And to a certain degree, I kind of have to agree. If we want to achieve a high TPR (identifying as much actual fraud as possible), the *RF with Undersampling* model beats the other by the quite the margin, which is also why its AUC is the greatest. On the contrary, the initial RandomForest model seem to perform the worst in terms of AUC. This was something we weren't able to capture when evaluating the recall, precision and F-1 score.\n",
    "\n",
    "Finally, before we conclude, I also want to remind that in the case of an imbalanced dataset, even a FPR of just 0.2 means a very low precision. This is due to the extreme difference in the majority and minority class. We can see this being the case for *RF with Undersampling*.\n",
    "\n",
    "![image.png](attachment:f08cbb2b-bcc0-44b8-be0d-f934fce3fd76.png)\n",
    "\n",
    "Above we have the confusion matrix for *RF with Undersampling*. The FPR is only 0.03 here (2555/(91170+2555)), but we can see that the precision is already super low. A small portion of the majority class could still be huge when compared to the minority class. This means that if we wanted to achieve a TPR of 99%, even if we used *RF with Undersampling*, the model that maintained the lowest FPR (~0.3), that FPR of ~0.3 would mean a huge number of non-fraud transactions being classified as fraud. Therefore, we have to consider whether this super low precision is really worth it just to identify that extra one or two fraud transactions."
   ]
  },
  {
   "cell_type": "markdown",
   "id": "1cf328a7",
   "metadata": {
    "papermill": {
     "duration": 0.022543,
     "end_time": "2023-05-19T08:43:59.124014",
     "exception": false,
     "start_time": "2023-05-19T08:43:59.101471",
     "status": "completed"
    },
    "tags": []
   },
   "source": [
    "# Conclusion\n",
    "\n",
    "Wow! We discussed a lot in this notebook. Let's recap. \n",
    "\n",
    "- imbalanced datasets are hard to deal with\n",
    "- some models are intrinisically better at dealing with imbalanced datasets\n",
    "- resampling is a common treatment to deal with imbalanced datasets\n",
    "- resample only the training data, not the testing data\n",
    "- accuracy is a horrible evaluation metric, instead look for f1_score, precision and recall (and maybe ROC and AUC)\n",
    "\n",
    "Phew! My brain is about to explode just from writing this. The models we built in this notebook could definitely be improved further with hyperparameter tuning, so try it out if you have time! Hope you enjoyed this notebook and was able to take away something from it. If you like this work, please upvote!"
   ]
  }
 ],
 "metadata": {
  "kernelspec": {
   "display_name": "Python 3",
   "language": "python",
   "name": "python3"
  },
  "language_info": {
   "codemirror_mode": {
    "name": "ipython",
    "version": 3
   },
   "file_extension": ".py",
   "mimetype": "text/x-python",
   "name": "python",
   "nbconvert_exporter": "python",
   "pygments_lexer": "ipython3",
   "version": "3.12.1"
  },
  "papermill": {
   "default_parameters": {},
   "duration": 1191.035878,
   "end_time": "2023-05-19T08:44:00.070381",
   "environment_variables": {},
   "exception": null,
   "input_path": "__notebook__.ipynb",
   "output_path": "__notebook__.ipynb",
   "parameters": {},
   "start_time": "2023-05-19T08:24:09.034503",
   "version": "2.3.4"
  }
 },
 "nbformat": 4,
 "nbformat_minor": 5
}
